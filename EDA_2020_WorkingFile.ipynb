{
 "cells": [
  {
   "cell_type": "code",
   "execution_count": 1,
   "metadata": {},
   "outputs": [],
   "source": [
    "import matplotlib.pyplot as plt\n",
    "import pandas as pd"
   ]
  },
  {
   "cell_type": "markdown",
   "metadata": {},
   "source": [
    "#### Questions\n",
    "\n",
    "1. **How many columns are in the dataset? What does each column represent?**\n",
    "   - *Hint: Use `df.head(5)` or `df.info()` or `df.columns` to check the number of columns and their names.*\n",
    "\n",
    "2. **How many rows are in the dataset? What does each row represent?**\n",
    "   - *Hint: Use `df.shape` to find the number of rows. Think about what a single row of data indicates in the context of this dataset.*\n",
    "   \n",
    "3. **How many unique cities/towns are in Massachusetts in this dataset?**\n",
    "   - *Hint: Use `len(df['City_Town'].unique())` to find the answer. The result should be 351.*"
   ]
  },
  {
   "cell_type": "code",
   "execution_count": 2,
   "metadata": {},
   "outputs": [
    {
     "data": {
      "text/html": [
       "<div>\n",
       "<style scoped>\n",
       "    .dataframe tbody tr th:only-of-type {\n",
       "        vertical-align: middle;\n",
       "    }\n",
       "\n",
       "    .dataframe tbody tr th {\n",
       "        vertical-align: top;\n",
       "    }\n",
       "\n",
       "    .dataframe thead th {\n",
       "        text-align: right;\n",
       "    }\n",
       "</style>\n",
       "<table border=\"1\" class=\"dataframe\">\n",
       "  <thead>\n",
       "    <tr style=\"text-align: right;\">\n",
       "      <th></th>\n",
       "      <th>City/Town</th>\n",
       "      <th>Unnamed: 1</th>\n",
       "      <th>Unnamed: 2</th>\n",
       "      <th>Joseph R. Biden, Jr.</th>\n",
       "      <th>Donald J. Trump</th>\n",
       "      <th>Jo Jorgensen</th>\n",
       "      <th>Howard Hawkins</th>\n",
       "      <th>All Others</th>\n",
       "      <th>No Preference</th>\n",
       "      <th>Blanks</th>\n",
       "      <th>Total Votes Cast</th>\n",
       "    </tr>\n",
       "  </thead>\n",
       "  <tbody>\n",
       "    <tr>\n",
       "      <th>348</th>\n",
       "      <td>Worcester</td>\n",
       "      <td>NaN</td>\n",
       "      <td>NaN</td>\n",
       "      <td>48,584</td>\n",
       "      <td>21,169</td>\n",
       "      <td>830</td>\n",
       "      <td>459</td>\n",
       "      <td>328</td>\n",
       "      <td>0.0</td>\n",
       "      <td>626</td>\n",
       "      <td>71,996</td>\n",
       "    </tr>\n",
       "    <tr>\n",
       "      <th>349</th>\n",
       "      <td>Worthington</td>\n",
       "      <td>NaN</td>\n",
       "      <td>NaN</td>\n",
       "      <td>571</td>\n",
       "      <td>271</td>\n",
       "      <td>17</td>\n",
       "      <td>9</td>\n",
       "      <td>2</td>\n",
       "      <td>0.0</td>\n",
       "      <td>6</td>\n",
       "      <td>876</td>\n",
       "    </tr>\n",
       "    <tr>\n",
       "      <th>350</th>\n",
       "      <td>Wrentham</td>\n",
       "      <td>NaN</td>\n",
       "      <td>NaN</td>\n",
       "      <td>4,247</td>\n",
       "      <td>3,319</td>\n",
       "      <td>132</td>\n",
       "      <td>34</td>\n",
       "      <td>75</td>\n",
       "      <td>0.0</td>\n",
       "      <td>50</td>\n",
       "      <td>7,857</td>\n",
       "    </tr>\n",
       "    <tr>\n",
       "      <th>351</th>\n",
       "      <td>Yarmouth</td>\n",
       "      <td>NaN</td>\n",
       "      <td>NaN</td>\n",
       "      <td>9,149</td>\n",
       "      <td>5,993</td>\n",
       "      <td>190</td>\n",
       "      <td>69</td>\n",
       "      <td>51</td>\n",
       "      <td>0.0</td>\n",
       "      <td>110</td>\n",
       "      <td>15,562</td>\n",
       "    </tr>\n",
       "    <tr>\n",
       "      <th>352</th>\n",
       "      <td>TOTALS</td>\n",
       "      <td>NaN</td>\n",
       "      <td>NaN</td>\n",
       "      <td>2,382,202</td>\n",
       "      <td>1,167,202</td>\n",
       "      <td>47,013</td>\n",
       "      <td>18,658</td>\n",
       "      <td>16,327</td>\n",
       "      <td>0.0</td>\n",
       "      <td>26,603</td>\n",
       "      <td>3,658,005</td>\n",
       "    </tr>\n",
       "  </tbody>\n",
       "</table>\n",
       "</div>"
      ],
      "text/plain": [
       "       City/Town  Unnamed: 1  Unnamed: 2 Joseph R. Biden, Jr. Donald J. Trump  \\\n",
       "348    Worcester         NaN         NaN               48,584          21,169   \n",
       "349  Worthington         NaN         NaN                  571             271   \n",
       "350     Wrentham         NaN         NaN                4,247           3,319   \n",
       "351     Yarmouth         NaN         NaN                9,149           5,993   \n",
       "352       TOTALS         NaN         NaN            2,382,202       1,167,202   \n",
       "\n",
       "    Jo Jorgensen Howard Hawkins All Others  No Preference  Blanks  \\\n",
       "348          830            459        328            0.0     626   \n",
       "349           17              9          2            0.0       6   \n",
       "350          132             34         75            0.0      50   \n",
       "351          190             69         51            0.0     110   \n",
       "352       47,013         18,658     16,327            0.0  26,603   \n",
       "\n",
       "    Total Votes Cast  \n",
       "348           71,996  \n",
       "349              876  \n",
       "350            7,857  \n",
       "351           15,562  \n",
       "352        3,658,005  "
      ]
     },
     "execution_count": 2,
     "metadata": {},
     "output_type": "execute_result"
    }
   ],
   "source": [
    "### Loading/Reading data**\n",
    "df_raw = pd.read_csv('2020_President_MA.csv')\n",
    "\n",
    "## show the first 5 rows\n",
    "df_raw.head(5)\n",
    "\n",
    "## show the last 5 rows\n",
    "df_raw.tail(5)"
   ]
  },
  {
   "cell_type": "code",
   "execution_count": 3,
   "metadata": {},
   "outputs": [
    {
     "data": {
      "text/plain": [
       "City/Town                 1\n",
       "Unnamed: 1              353\n",
       "Unnamed: 2              353\n",
       "Joseph R. Biden, Jr.      0\n",
       "Donald J. Trump           0\n",
       "Jo Jorgensen              0\n",
       "Howard Hawkins            0\n",
       "All Others                1\n",
       "No Preference             1\n",
       "Blanks                    1\n",
       "Total Votes Cast          1\n",
       "dtype: int64"
      ]
     },
     "execution_count": 3,
     "metadata": {},
     "output_type": "execute_result"
    }
   ],
   "source": [
    "## Cleaning data. Check nan vlaues \n",
    "df_raw.isna().sum()\n",
    "\n",
    "## Which columns/rows have missing values? Hint: We should remove two rows and two columns here. \n"
   ]
  },
  {
   "cell_type": "code",
   "execution_count": null,
   "metadata": {},
   "outputs": [],
   "source": [
    "### Remove two rows and two columns: replace with the names of the columns\n",
    "df_clean_cols = df_raw.drop(['col_name1', 'col_name2'], axis = 1)\n",
    "\n",
    "### Remove the row (change the row index) and check the results\n",
    "df = df_clean_cols.drop([id0, id1])\n",
    "df.head(5)"
   ]
  },
  {
   "cell_type": "code",
   "execution_count": null,
   "metadata": {},
   "outputs": [],
   "source": [
    "### Rename columnes for easy analysis\n",
    "df.columns = ['City_Town', 'Biden', 'Trump', 'Jorgensen', 'Hawkins', 'Others', 'No_Prefer', 'Blanks', 'Total']\n",
    "df.head(5)"
   ]
  },
  {
   "cell_type": "code",
   "execution_count": null,
   "metadata": {},
   "outputs": [],
   "source": [
    "### Check number of towns and City in MA\n",
    "### *Hint: Use `len(df['City_Town'].unique())` to find the answer. The result should be 351.*\n",
    "\n",
    "num_towns_city = len(df['City_Town'].unique())\n",
    "num_towns_city"
   ]
  },
  {
   "cell_type": "code",
   "execution_count": null,
   "metadata": {},
   "outputs": [],
   "source": [
    "## Before you do anything, remember to check the datatype and change if you need to\n",
    "columns_to_convert = ['Biden', 'Trump', 'Jorgensen', 'Hawkins', 'Others', 'Blanks', 'Total']\n",
    "\n",
    "# Using pd.to_numeric to convert columns to numeric types\n",
    "for column in columns_to_convert:\n",
    "    df[column] = df[column].str.replace(',', '') \n",
    "    df[column] = pd.to_numeric(df[column], errors='coerce')\n",
    "\n",
    "# check the result again\n",
    "df.info()\n"
   ]
  },
  {
   "cell_type": "markdown",
   "metadata": {},
   "source": [
    "## Statistical Analysis: Why am I removing the 'No_Prefer' column?\n",
    "*** - *Hint: Consider the significance of the 'No_Prefer' data in the context of the analysis.*\n",
    "\n",
    "## What observations can be made regarding Biden's vote distribution, given that the mean is approximately twice the median?\n",
    "- *Hint: Reflect on what it indicates about the distribution of votes for Biden, such as potential skewness and the presence of outliers.*"
   ]
  },
  {
   "cell_type": "code",
   "execution_count": null,
   "metadata": {},
   "outputs": [],
   "source": [
    "## Statistical Analysis\n",
    "\n",
    "df.describe()"
   ]
  },
  {
   "cell_type": "markdown",
   "metadata": {},
   "source": [
    "#### Questions\n",
    "\n",
    "1. **What percentage of the total votes did each candidate receive across all cities/towns?**\n",
    "   - *Hint: Use `vote_percentages = (df[['Biden', 'Trump', 'Jorgensen', 'Hawkins', 'Others']].sum() / df[['Biden', 'Trump', 'Jorgensen', 'Hawkins', 'Others']].sum().sum()) * 100` to calculate the percentage of total votes for each candidate.*   \n",
    "\n",
    "2. **Which city/town had the highest total number of votes cast?**\n",
    "   - *Hint: Use `df.loc[df['Total'].idxmax()]` to find the city/town with the highest total votes.*\n",
    "\n",
    "3. **What is the average number of votes received by each candidate across all cities/towns?**\n",
    "   - *Hint: Use `df[['Biden', 'Trump', 'Jorgensen', 'Hawkins', 'Others']].mean()` to find the average votes per candidate.*\n",
    "\n",
    "4. **How many cities/towns had more than 50% of the total votes for Biden?**\n",
    "   - *Hint: Use `df[df['Biden'] / df['Total'] > 0.5].shape[0]` to count the number of cities/towns.*\n",
    "\n",
    "5. **What is the distribution of Trump votes across all cities/towns?**\n",
    "   - *Hint: Use `df['Trump'].describe()` to analyze the distribution of Trump votes.*\n",
    "\n",
    "6. **Which candidate received the most votes in the city/town with the lowest voter turnout?**\n",
    "   - *Hint: Identify the city/town with the lowest `Total` votes, then check the vote counts for each candidate in that row.*"
   ]
  },
  {
   "cell_type": "code",
   "execution_count": null,
   "metadata": {},
   "outputs": [],
   "source": [
    "# Calculate the total votes for each candidate\n",
    "total_votes = df[['Biden', 'Trump', 'Jorgensen', 'Hawkins', 'Others']].sum()\n",
    "\n",
    "# Calculate the total votes across all candidates\n",
    "total_votes_sum = total_votes.sum()\n",
    "\n",
    "# Calculate percentage for each candidate\n",
    "vote_percentages = (total_votes / total_votes_sum) * 100\n",
    "\n",
    "# Plotting\n",
    "plt.figure(figsize=(10, 6))\n",
    "vote_percentages.plot(kind='bar', color=['#3E6D8D', '#E44D2C', '#F6E17C', '#7C9B4A', '#A8B9C8'])\n",
    "plt.title('Percentage of Total Votes for Each Candidate in 2020 US Presidential Election (MA)')\n",
    "plt.xlabel('Candidates')\n",
    "plt.ylabel('Percentage of Total Votes (%)')\n",
    "plt.xticks(rotation=45)\n",
    "plt.ylim(0, 100)  # Set y-axis limit to 100%\n",
    "plt.grid(axis='y')\n",
    "\n",
    "## does this graph represent your understanding about US Election in MA?"
   ]
  }
 ],
 "metadata": {
  "kernelspec": {
   "display_name": "Python 3",
   "language": "python",
   "name": "python3"
  },
  "language_info": {
   "codemirror_mode": {
    "name": "ipython",
    "version": 3
   },
   "file_extension": ".py",
   "mimetype": "text/x-python",
   "name": "python",
   "nbconvert_exporter": "python",
   "pygments_lexer": "ipython3",
   "version": "3.11.9"
  }
 },
 "nbformat": 4,
 "nbformat_minor": 2
}
