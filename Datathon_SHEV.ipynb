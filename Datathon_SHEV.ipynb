{
  "nbformat": 4,
  "nbformat_minor": 0,
  "metadata": {
    "colab": {
      "provenance": [],
      "include_colab_link": true
    },
    "kernelspec": {
      "name": "ir",
      "display_name": "R"
    },
    "language_info": {
      "name": "R"
    }
  },
  "cells": [
    {
      "cell_type": "markdown",
      "metadata": {
        "id": "view-in-github",
        "colab_type": "text"
      },
      "source": [
        "<a href=\"https://colab.research.google.com/github/SunImplosion/Data-USElection/blob/main/Datathon_SHEV.ipynb\" target=\"_parent\"><img src=\"https://colab.research.google.com/assets/colab-badge.svg\" alt=\"Open In Colab\"/></a>"
      ]
    },
    {
      "cell_type": "code",
      "source": [
        "load('/content/congressional_election_data.RData')"
      ],
      "metadata": {
        "id": "l6A1QP5ymOZz"
      },
      "execution_count": null,
      "outputs": []
    },
    {
      "cell_type": "code",
      "source": [
        "head(house)\n",
        "dim(house)"
      ],
      "metadata": {
        "id": "t85il8Fzmss3",
        "outputId": "98fc6115-582e-4630-f10e-3147886029db",
        "colab": {
          "base_uri": "https://localhost:8080/",
          "height": 303
        }
      },
      "execution_count": null,
      "outputs": [
        {
          "output_type": "display_data",
          "data": {
            "text/html": [
              "<table class=\"dataframe\">\n",
              "<caption>A data.frame: 6 × 5</caption>\n",
              "<thead>\n",
              "\t<tr><th></th><th scope=col>year</th><th scope=col>district</th><th scope=col>dv</th><th scope=col>dpres</th><th scope=col>pwin</th></tr>\n",
              "\t<tr><th></th><th scope=col>&lt;int&gt;</th><th scope=col>&lt;chr&gt;</th><th scope=col>&lt;dbl&gt;</th><th scope=col>&lt;dbl&gt;</th><th scope=col>&lt;chr&gt;</th></tr>\n",
              "</thead>\n",
              "<tbody>\n",
              "\t<tr><th scope=row>5659</th><td>1972</td><td>AL1</td><td>18.9</td><td>24.26815</td><td>Republican Win</td></tr>\n",
              "\t<tr><th scope=row>5660</th><td>1972</td><td>AL2</td><td>43.0</td><td>22.45630</td><td>Republican Win</td></tr>\n",
              "\t<tr><th scope=row>5661</th><td>1972</td><td>AL3</td><td>78.6</td><td>25.34060</td><td>Democratic Win</td></tr>\n",
              "\t<tr><th scope=row>5662</th><td>1972</td><td>AL4</td><td>69.9</td><td>22.42465</td><td>Democratic Win</td></tr>\n",
              "\t<tr><th scope=row>5663</th><td>1972</td><td>AL5</td><td>75.3</td><td>25.43620</td><td>Democratic Win</td></tr>\n",
              "\t<tr><th scope=row>5664</th><td>1972</td><td>AL6</td><td>37.3</td><td>27.80060</td><td>Republican Win</td></tr>\n",
              "</tbody>\n",
              "</table>\n"
            ],
            "text/markdown": "\nA data.frame: 6 × 5\n\n| <!--/--> | year &lt;int&gt; | district &lt;chr&gt; | dv &lt;dbl&gt; | dpres &lt;dbl&gt; | pwin &lt;chr&gt; |\n|---|---|---|---|---|---|\n| 5659 | 1972 | AL1 | 18.9 | 24.26815 | Republican Win |\n| 5660 | 1972 | AL2 | 43.0 | 22.45630 | Republican Win |\n| 5661 | 1972 | AL3 | 78.6 | 25.34060 | Democratic Win |\n| 5662 | 1972 | AL4 | 69.9 | 22.42465 | Democratic Win |\n| 5663 | 1972 | AL5 | 75.3 | 25.43620 | Democratic Win |\n| 5664 | 1972 | AL6 | 37.3 | 27.80060 | Republican Win |\n\n",
            "text/latex": "A data.frame: 6 × 5\n\\begin{tabular}{r|lllll}\n  & year & district & dv & dpres & pwin\\\\\n  & <int> & <chr> & <dbl> & <dbl> & <chr>\\\\\n\\hline\n\t5659 & 1972 & AL1 & 18.9 & 24.26815 & Republican Win\\\\\n\t5660 & 1972 & AL2 & 43.0 & 22.45630 & Republican Win\\\\\n\t5661 & 1972 & AL3 & 78.6 & 25.34060 & Democratic Win\\\\\n\t5662 & 1972 & AL4 & 69.9 & 22.42465 & Democratic Win\\\\\n\t5663 & 1972 & AL5 & 75.3 & 25.43620 & Democratic Win\\\\\n\t5664 & 1972 & AL6 & 37.3 & 27.80060 & Republican Win\\\\\n\\end{tabular}\n",
            "text/plain": [
              "     year district dv   dpres    pwin          \n",
              "5659 1972 AL1      18.9 24.26815 Republican Win\n",
              "5660 1972 AL2      43.0 22.45630 Republican Win\n",
              "5661 1972 AL3      78.6 25.34060 Democratic Win\n",
              "5662 1972 AL4      69.9 22.42465 Democratic Win\n",
              "5663 1972 AL5      75.3 25.43620 Democratic Win\n",
              "5664 1972 AL6      37.3 27.80060 Republican Win"
            ]
          },
          "metadata": {}
        },
        {
          "output_type": "display_data",
          "data": {
            "text/html": [
              "<style>\n",
              ".list-inline {list-style: none; margin:0; padding: 0}\n",
              ".list-inline>li {display: inline-block}\n",
              ".list-inline>li:not(:last-child)::after {content: \"\\00b7\"; padding: 0 .5ex}\n",
              "</style>\n",
              "<ol class=list-inline><li>10440</li><li>5</li></ol>\n"
            ],
            "text/markdown": "1. 10440\n2. 5\n\n\n",
            "text/latex": "\\begin{enumerate*}\n\\item 10440\n\\item 5\n\\end{enumerate*}\n",
            "text/plain": [
              "[1] 10440     5"
            ]
          },
          "metadata": {}
        }
      ]
    },
    {
      "cell_type": "code",
      "source": [
        "tail(senate)\n",
        "dim(senate)"
      ],
      "metadata": {
        "id": "QLIzzjUEmwVV",
        "outputId": "ec4a4ae0-0fc6-45ab-d21d-fa52666c1cc1",
        "colab": {
          "base_uri": "https://localhost:8080/",
          "height": 303
        }
      },
      "execution_count": null,
      "outputs": [
        {
          "output_type": "display_data",
          "data": {
            "text/html": [
              "<table class=\"dataframe\">\n",
              "<caption>A data.frame: 6 × 6</caption>\n",
              "<thead>\n",
              "\t<tr><th></th><th scope=col>year</th><th scope=col>state</th><th scope=col>seat_class</th><th scope=col>dv</th><th scope=col>dpres</th><th scope=col>pwin</th></tr>\n",
              "\t<tr><th></th><th scope=col>&lt;dbl&gt;</th><th scope=col>&lt;chr&gt;</th><th scope=col>&lt;chr&gt;</th><th scope=col>&lt;dbl&gt;</th><th scope=col>&lt;dbl&gt;</th><th scope=col>&lt;chr&gt;</th></tr>\n",
              "</thead>\n",
              "<tbody>\n",
              "\t<tr><th scope=row>1865</th><td>2018</td><td>VA</td><td>Class I</td><td>58.15995</td><td>52.86624</td><td>Democratic Win </td></tr>\n",
              "\t<tr><th scope=row>1866</th><td>2018</td><td>VT</td><td>Class I</td><td>      NA</td><td>65.17241</td><td>Independent Win</td></tr>\n",
              "\t<tr><th scope=row>1867</th><td>2018</td><td>WA</td><td>Class I</td><td>58.43376</td><td>58.76623</td><td>Democratic Win </td></tr>\n",
              "\t<tr><th scope=row>1868</th><td>2018</td><td>WI</td><td>Class I</td><td>55.41856</td><td>49.62647</td><td>Democratic Win </td></tr>\n",
              "\t<tr><th scope=row>1869</th><td>2018</td><td>WV</td><td>Class I</td><td>51.72687</td><td>27.86540</td><td>Democratic Win </td></tr>\n",
              "\t<tr><th scope=row>1870</th><td>2018</td><td>WY</td><td>Class I</td><td>31.01090</td><td>24.30633</td><td>Republican Win </td></tr>\n",
              "</tbody>\n",
              "</table>\n"
            ],
            "text/markdown": "\nA data.frame: 6 × 6\n\n| <!--/--> | year &lt;dbl&gt; | state &lt;chr&gt; | seat_class &lt;chr&gt; | dv &lt;dbl&gt; | dpres &lt;dbl&gt; | pwin &lt;chr&gt; |\n|---|---|---|---|---|---|---|\n| 1865 | 2018 | VA | Class I | 58.15995 | 52.86624 | Democratic Win  |\n| 1866 | 2018 | VT | Class I |       NA | 65.17241 | Independent Win |\n| 1867 | 2018 | WA | Class I | 58.43376 | 58.76623 | Democratic Win  |\n| 1868 | 2018 | WI | Class I | 55.41856 | 49.62647 | Democratic Win  |\n| 1869 | 2018 | WV | Class I | 51.72687 | 27.86540 | Democratic Win  |\n| 1870 | 2018 | WY | Class I | 31.01090 | 24.30633 | Republican Win  |\n\n",
            "text/latex": "A data.frame: 6 × 6\n\\begin{tabular}{r|llllll}\n  & year & state & seat\\_class & dv & dpres & pwin\\\\\n  & <dbl> & <chr> & <chr> & <dbl> & <dbl> & <chr>\\\\\n\\hline\n\t1865 & 2018 & VA & Class I & 58.15995 & 52.86624 & Democratic Win \\\\\n\t1866 & 2018 & VT & Class I &       NA & 65.17241 & Independent Win\\\\\n\t1867 & 2018 & WA & Class I & 58.43376 & 58.76623 & Democratic Win \\\\\n\t1868 & 2018 & WI & Class I & 55.41856 & 49.62647 & Democratic Win \\\\\n\t1869 & 2018 & WV & Class I & 51.72687 & 27.86540 & Democratic Win \\\\\n\t1870 & 2018 & WY & Class I & 31.01090 & 24.30633 & Republican Win \\\\\n\\end{tabular}\n",
            "text/plain": [
              "     year state seat_class dv       dpres    pwin           \n",
              "1865 2018 VA    Class I    58.15995 52.86624 Democratic Win \n",
              "1866 2018 VT    Class I          NA 65.17241 Independent Win\n",
              "1867 2018 WA    Class I    58.43376 58.76623 Democratic Win \n",
              "1868 2018 WI    Class I    55.41856 49.62647 Democratic Win \n",
              "1869 2018 WV    Class I    51.72687 27.86540 Democratic Win \n",
              "1870 2018 WY    Class I    31.01090 24.30633 Republican Win "
            ]
          },
          "metadata": {}
        },
        {
          "output_type": "display_data",
          "data": {
            "text/html": [
              "<style>\n",
              ".list-inline {list-style: none; margin:0; padding: 0}\n",
              ".list-inline>li {display: inline-block}\n",
              ".list-inline>li:not(:last-child)::after {content: \"\\00b7\"; padding: 0 .5ex}\n",
              "</style>\n",
              "<ol class=list-inline><li>831</li><li>6</li></ol>\n"
            ],
            "text/markdown": "1. 831\n2. 6\n\n\n",
            "text/latex": "\\begin{enumerate*}\n\\item 831\n\\item 6\n\\end{enumerate*}\n",
            "text/plain": [
              "[1] 831   6"
            ]
          },
          "metadata": {}
        }
      ]
    },
    {
      "cell_type": "code",
      "source": [
        "library(dplyr)\n",
        "#S = senate %>% arrange(state) %>% filter(year >= 2000)\n",
        "S = senate[senate['year'] == 2018,]\n",
        "S\n",
        "dim(S)"
      ],
      "metadata": {
        "colab": {
          "base_uri": "https://localhost:8080/",
          "height": 1000
        },
        "id": "du9c3ByGrANi",
        "outputId": "7e43e02e-e191-474b-a8a2-c4b0b5c30bbb"
      },
      "execution_count": null,
      "outputs": [
        {
          "output_type": "display_data",
          "data": {
            "text/html": [
              "<table class=\"dataframe\">\n",
              "<caption>A data.frame: 35 × 6</caption>\n",
              "<thead>\n",
              "\t<tr><th></th><th scope=col>year</th><th scope=col>state</th><th scope=col>seat_class</th><th scope=col>dv</th><th scope=col>dpres</th><th scope=col>pwin</th></tr>\n",
              "\t<tr><th></th><th scope=col>&lt;dbl&gt;</th><th scope=col>&lt;chr&gt;</th><th scope=col>&lt;chr&gt;</th><th scope=col>&lt;dbl&gt;</th><th scope=col>&lt;dbl&gt;</th><th scope=col>&lt;chr&gt;</th></tr>\n",
              "</thead>\n",
              "<tbody>\n",
              "\t<tr><th scope=row>1836</th><td>2018</td><td>AZ</td><td>Class I </td><td> 51.20148</td><td>48.08102</td><td>Democratic Win </td></tr>\n",
              "\t<tr><th scope=row>1837</th><td>2018</td><td>CA</td><td>Class I </td><td>100.00000</td><td>66.13076</td><td>Democratic Win </td></tr>\n",
              "\t<tr><th scope=row>1838</th><td>2018</td><td>CT</td><td>Class I </td><td> 60.20429</td><td>57.17277</td><td>Democratic Win </td></tr>\n",
              "\t<tr><th scope=row>1839</th><td>2018</td><td>DE</td><td>Class I </td><td> 61.31950</td><td>56.03358</td><td>Democratic Win </td></tr>\n",
              "\t<tr><th scope=row>1840</th><td>2018</td><td>FL</td><td>Class I </td><td> 49.93874</td><td>49.38017</td><td>Republican Win </td></tr>\n",
              "\t<tr><th scope=row>1841</th><td>2018</td><td>HI</td><td>Class I </td><td> 71.15110</td><td>67.46204</td><td>Democratic Win </td></tr>\n",
              "\t<tr><th scope=row>1842</th><td>2018</td><td>IN</td><td>Class I </td><td> 46.91855</td><td>39.91552</td><td>Republican Win </td></tr>\n",
              "\t<tr><th scope=row>1843</th><td>2018</td><td>MA</td><td>Class I </td><td> 62.51944</td><td>64.65517</td><td>Democratic Win </td></tr>\n",
              "\t<tr><th scope=row>1844</th><td>2018</td><td>MD</td><td>Class I </td><td> 68.15283</td><td>64.01274</td><td>Democratic Win </td></tr>\n",
              "\t<tr><th scope=row>1845</th><td>2018</td><td>ME</td><td>Class I </td><td>       NA</td><td>51.56419</td><td>Independent Win</td></tr>\n",
              "\t<tr><th scope=row>1846</th><td>2018</td><td>MI</td><td>Class I </td><td> 53.31857</td><td>49.89451</td><td>Democratic Win </td></tr>\n",
              "\t<tr><th scope=row>1847</th><td>2018</td><td>MN</td><td>Class I </td><td> 62.48173</td><td>50.82147</td><td>Democratic Win </td></tr>\n",
              "\t<tr><th scope=row>1848</th><td>2018</td><td>MN</td><td>Class II</td><td> 55.57031</td><td>50.82147</td><td>Democratic Win </td></tr>\n",
              "\t<tr><th scope=row>1849</th><td>2018</td><td>MO</td><td>Class I </td><td> 47.00168</td><td>40.14752</td><td>Republican Win </td></tr>\n",
              "\t<tr><th scope=row>1850</th><td>2018</td><td>MS</td><td>Class I </td><td> 40.29357</td><td>40.91837</td><td>Republican Win </td></tr>\n",
              "\t<tr><th scope=row>1851</th><td>2018</td><td>MS</td><td>Class II</td><td> 46.36692</td><td>40.91837</td><td>Republican Win </td></tr>\n",
              "\t<tr><th scope=row>1852</th><td>2018</td><td>MT</td><td>Class I </td><td> 51.82846</td><td>38.84657</td><td>Democratic Win </td></tr>\n",
              "\t<tr><th scope=row>1853</th><td>2018</td><td>ND</td><td>Class I </td><td> 44.54729</td><td>30.15521</td><td>Democratic Win </td></tr>\n",
              "\t<tr><th scope=row>1854</th><td>2018</td><td>NE</td><td>Class I </td><td> 40.10249</td><td>36.47186</td><td>Republican Win </td></tr>\n",
              "\t<tr><th scope=row>1855</th><td>2018</td><td>NJ</td><td>Class I </td><td> 55.77221</td><td>57.27554</td><td>Democratic Win </td></tr>\n",
              "\t<tr><th scope=row>1856</th><td>2018</td><td>NM</td><td>Class I </td><td> 63.91844</td><td>54.69989</td><td>Democratic Win </td></tr>\n",
              "\t<tr><th scope=row>1857</th><td>2018</td><td>NV</td><td>Class I </td><td> 52.62377</td><td>51.28480</td><td>Republican Win </td></tr>\n",
              "\t<tr><th scope=row>1858</th><td>2018</td><td>NY</td><td>Class I </td><td> 66.99967</td><td>61.78010</td><td>Democratic Win </td></tr>\n",
              "\t<tr><th scope=row>1859</th><td>2018</td><td>OH</td><td>Class I </td><td> 53.42367</td><td>45.75026</td><td>Democratic Win </td></tr>\n",
              "\t<tr><th scope=row>1860</th><td>2018</td><td>PA</td><td>Class I </td><td> 56.67293</td><td>49.63731</td><td>Democratic Win </td></tr>\n",
              "\t<tr><th scope=row>1861</th><td>2018</td><td>RI</td><td>Class I </td><td> 61.57974</td><td>58.30654</td><td>Democratic Win </td></tr>\n",
              "\t<tr><th scope=row>1862</th><td>2018</td><td>TN</td><td>Class I </td><td> 44.53140</td><td>36.37317</td><td>Republican Win </td></tr>\n",
              "\t<tr><th scope=row>1863</th><td>2018</td><td>TX</td><td>Class I </td><td> 48.70626</td><td>45.28302</td><td>Republican Win </td></tr>\n",
              "\t<tr><th scope=row>1864</th><td>2018</td><td>UT</td><td>Class I </td><td> 33.06053</td><td>37.67123</td><td>Republican Win </td></tr>\n",
              "\t<tr><th scope=row>1865</th><td>2018</td><td>VA</td><td>Class I </td><td> 58.15995</td><td>52.86624</td><td>Democratic Win </td></tr>\n",
              "\t<tr><th scope=row>1866</th><td>2018</td><td>VT</td><td>Class I </td><td>       NA</td><td>65.17241</td><td>Independent Win</td></tr>\n",
              "\t<tr><th scope=row>1867</th><td>2018</td><td>WA</td><td>Class I </td><td> 58.43376</td><td>58.76623</td><td>Democratic Win </td></tr>\n",
              "\t<tr><th scope=row>1868</th><td>2018</td><td>WI</td><td>Class I </td><td> 55.41856</td><td>49.62647</td><td>Democratic Win </td></tr>\n",
              "\t<tr><th scope=row>1869</th><td>2018</td><td>WV</td><td>Class I </td><td> 51.72687</td><td>27.86540</td><td>Democratic Win </td></tr>\n",
              "\t<tr><th scope=row>1870</th><td>2018</td><td>WY</td><td>Class I </td><td> 31.01090</td><td>24.30633</td><td>Republican Win </td></tr>\n",
              "</tbody>\n",
              "</table>\n"
            ],
            "text/markdown": "\nA data.frame: 35 × 6\n\n| <!--/--> | year &lt;dbl&gt; | state &lt;chr&gt; | seat_class &lt;chr&gt; | dv &lt;dbl&gt; | dpres &lt;dbl&gt; | pwin &lt;chr&gt; |\n|---|---|---|---|---|---|---|\n| 1836 | 2018 | AZ | Class I  |  51.20148 | 48.08102 | Democratic Win  |\n| 1837 | 2018 | CA | Class I  | 100.00000 | 66.13076 | Democratic Win  |\n| 1838 | 2018 | CT | Class I  |  60.20429 | 57.17277 | Democratic Win  |\n| 1839 | 2018 | DE | Class I  |  61.31950 | 56.03358 | Democratic Win  |\n| 1840 | 2018 | FL | Class I  |  49.93874 | 49.38017 | Republican Win  |\n| 1841 | 2018 | HI | Class I  |  71.15110 | 67.46204 | Democratic Win  |\n| 1842 | 2018 | IN | Class I  |  46.91855 | 39.91552 | Republican Win  |\n| 1843 | 2018 | MA | Class I  |  62.51944 | 64.65517 | Democratic Win  |\n| 1844 | 2018 | MD | Class I  |  68.15283 | 64.01274 | Democratic Win  |\n| 1845 | 2018 | ME | Class I  |        NA | 51.56419 | Independent Win |\n| 1846 | 2018 | MI | Class I  |  53.31857 | 49.89451 | Democratic Win  |\n| 1847 | 2018 | MN | Class I  |  62.48173 | 50.82147 | Democratic Win  |\n| 1848 | 2018 | MN | Class II |  55.57031 | 50.82147 | Democratic Win  |\n| 1849 | 2018 | MO | Class I  |  47.00168 | 40.14752 | Republican Win  |\n| 1850 | 2018 | MS | Class I  |  40.29357 | 40.91837 | Republican Win  |\n| 1851 | 2018 | MS | Class II |  46.36692 | 40.91837 | Republican Win  |\n| 1852 | 2018 | MT | Class I  |  51.82846 | 38.84657 | Democratic Win  |\n| 1853 | 2018 | ND | Class I  |  44.54729 | 30.15521 | Democratic Win  |\n| 1854 | 2018 | NE | Class I  |  40.10249 | 36.47186 | Republican Win  |\n| 1855 | 2018 | NJ | Class I  |  55.77221 | 57.27554 | Democratic Win  |\n| 1856 | 2018 | NM | Class I  |  63.91844 | 54.69989 | Democratic Win  |\n| 1857 | 2018 | NV | Class I  |  52.62377 | 51.28480 | Republican Win  |\n| 1858 | 2018 | NY | Class I  |  66.99967 | 61.78010 | Democratic Win  |\n| 1859 | 2018 | OH | Class I  |  53.42367 | 45.75026 | Democratic Win  |\n| 1860 | 2018 | PA | Class I  |  56.67293 | 49.63731 | Democratic Win  |\n| 1861 | 2018 | RI | Class I  |  61.57974 | 58.30654 | Democratic Win  |\n| 1862 | 2018 | TN | Class I  |  44.53140 | 36.37317 | Republican Win  |\n| 1863 | 2018 | TX | Class I  |  48.70626 | 45.28302 | Republican Win  |\n| 1864 | 2018 | UT | Class I  |  33.06053 | 37.67123 | Republican Win  |\n| 1865 | 2018 | VA | Class I  |  58.15995 | 52.86624 | Democratic Win  |\n| 1866 | 2018 | VT | Class I  |        NA | 65.17241 | Independent Win |\n| 1867 | 2018 | WA | Class I  |  58.43376 | 58.76623 | Democratic Win  |\n| 1868 | 2018 | WI | Class I  |  55.41856 | 49.62647 | Democratic Win  |\n| 1869 | 2018 | WV | Class I  |  51.72687 | 27.86540 | Democratic Win  |\n| 1870 | 2018 | WY | Class I  |  31.01090 | 24.30633 | Republican Win  |\n\n",
            "text/latex": "A data.frame: 35 × 6\n\\begin{tabular}{r|llllll}\n  & year & state & seat\\_class & dv & dpres & pwin\\\\\n  & <dbl> & <chr> & <chr> & <dbl> & <dbl> & <chr>\\\\\n\\hline\n\t1836 & 2018 & AZ & Class I  &  51.20148 & 48.08102 & Democratic Win \\\\\n\t1837 & 2018 & CA & Class I  & 100.00000 & 66.13076 & Democratic Win \\\\\n\t1838 & 2018 & CT & Class I  &  60.20429 & 57.17277 & Democratic Win \\\\\n\t1839 & 2018 & DE & Class I  &  61.31950 & 56.03358 & Democratic Win \\\\\n\t1840 & 2018 & FL & Class I  &  49.93874 & 49.38017 & Republican Win \\\\\n\t1841 & 2018 & HI & Class I  &  71.15110 & 67.46204 & Democratic Win \\\\\n\t1842 & 2018 & IN & Class I  &  46.91855 & 39.91552 & Republican Win \\\\\n\t1843 & 2018 & MA & Class I  &  62.51944 & 64.65517 & Democratic Win \\\\\n\t1844 & 2018 & MD & Class I  &  68.15283 & 64.01274 & Democratic Win \\\\\n\t1845 & 2018 & ME & Class I  &        NA & 51.56419 & Independent Win\\\\\n\t1846 & 2018 & MI & Class I  &  53.31857 & 49.89451 & Democratic Win \\\\\n\t1847 & 2018 & MN & Class I  &  62.48173 & 50.82147 & Democratic Win \\\\\n\t1848 & 2018 & MN & Class II &  55.57031 & 50.82147 & Democratic Win \\\\\n\t1849 & 2018 & MO & Class I  &  47.00168 & 40.14752 & Republican Win \\\\\n\t1850 & 2018 & MS & Class I  &  40.29357 & 40.91837 & Republican Win \\\\\n\t1851 & 2018 & MS & Class II &  46.36692 & 40.91837 & Republican Win \\\\\n\t1852 & 2018 & MT & Class I  &  51.82846 & 38.84657 & Democratic Win \\\\\n\t1853 & 2018 & ND & Class I  &  44.54729 & 30.15521 & Democratic Win \\\\\n\t1854 & 2018 & NE & Class I  &  40.10249 & 36.47186 & Republican Win \\\\\n\t1855 & 2018 & NJ & Class I  &  55.77221 & 57.27554 & Democratic Win \\\\\n\t1856 & 2018 & NM & Class I  &  63.91844 & 54.69989 & Democratic Win \\\\\n\t1857 & 2018 & NV & Class I  &  52.62377 & 51.28480 & Republican Win \\\\\n\t1858 & 2018 & NY & Class I  &  66.99967 & 61.78010 & Democratic Win \\\\\n\t1859 & 2018 & OH & Class I  &  53.42367 & 45.75026 & Democratic Win \\\\\n\t1860 & 2018 & PA & Class I  &  56.67293 & 49.63731 & Democratic Win \\\\\n\t1861 & 2018 & RI & Class I  &  61.57974 & 58.30654 & Democratic Win \\\\\n\t1862 & 2018 & TN & Class I  &  44.53140 & 36.37317 & Republican Win \\\\\n\t1863 & 2018 & TX & Class I  &  48.70626 & 45.28302 & Republican Win \\\\\n\t1864 & 2018 & UT & Class I  &  33.06053 & 37.67123 & Republican Win \\\\\n\t1865 & 2018 & VA & Class I  &  58.15995 & 52.86624 & Democratic Win \\\\\n\t1866 & 2018 & VT & Class I  &        NA & 65.17241 & Independent Win\\\\\n\t1867 & 2018 & WA & Class I  &  58.43376 & 58.76623 & Democratic Win \\\\\n\t1868 & 2018 & WI & Class I  &  55.41856 & 49.62647 & Democratic Win \\\\\n\t1869 & 2018 & WV & Class I  &  51.72687 & 27.86540 & Democratic Win \\\\\n\t1870 & 2018 & WY & Class I  &  31.01090 & 24.30633 & Republican Win \\\\\n\\end{tabular}\n",
            "text/plain": [
              "     year state seat_class dv        dpres    pwin           \n",
              "1836 2018 AZ    Class I     51.20148 48.08102 Democratic Win \n",
              "1837 2018 CA    Class I    100.00000 66.13076 Democratic Win \n",
              "1838 2018 CT    Class I     60.20429 57.17277 Democratic Win \n",
              "1839 2018 DE    Class I     61.31950 56.03358 Democratic Win \n",
              "1840 2018 FL    Class I     49.93874 49.38017 Republican Win \n",
              "1841 2018 HI    Class I     71.15110 67.46204 Democratic Win \n",
              "1842 2018 IN    Class I     46.91855 39.91552 Republican Win \n",
              "1843 2018 MA    Class I     62.51944 64.65517 Democratic Win \n",
              "1844 2018 MD    Class I     68.15283 64.01274 Democratic Win \n",
              "1845 2018 ME    Class I           NA 51.56419 Independent Win\n",
              "1846 2018 MI    Class I     53.31857 49.89451 Democratic Win \n",
              "1847 2018 MN    Class I     62.48173 50.82147 Democratic Win \n",
              "1848 2018 MN    Class II    55.57031 50.82147 Democratic Win \n",
              "1849 2018 MO    Class I     47.00168 40.14752 Republican Win \n",
              "1850 2018 MS    Class I     40.29357 40.91837 Republican Win \n",
              "1851 2018 MS    Class II    46.36692 40.91837 Republican Win \n",
              "1852 2018 MT    Class I     51.82846 38.84657 Democratic Win \n",
              "1853 2018 ND    Class I     44.54729 30.15521 Democratic Win \n",
              "1854 2018 NE    Class I     40.10249 36.47186 Republican Win \n",
              "1855 2018 NJ    Class I     55.77221 57.27554 Democratic Win \n",
              "1856 2018 NM    Class I     63.91844 54.69989 Democratic Win \n",
              "1857 2018 NV    Class I     52.62377 51.28480 Republican Win \n",
              "1858 2018 NY    Class I     66.99967 61.78010 Democratic Win \n",
              "1859 2018 OH    Class I     53.42367 45.75026 Democratic Win \n",
              "1860 2018 PA    Class I     56.67293 49.63731 Democratic Win \n",
              "1861 2018 RI    Class I     61.57974 58.30654 Democratic Win \n",
              "1862 2018 TN    Class I     44.53140 36.37317 Republican Win \n",
              "1863 2018 TX    Class I     48.70626 45.28302 Republican Win \n",
              "1864 2018 UT    Class I     33.06053 37.67123 Republican Win \n",
              "1865 2018 VA    Class I     58.15995 52.86624 Democratic Win \n",
              "1866 2018 VT    Class I           NA 65.17241 Independent Win\n",
              "1867 2018 WA    Class I     58.43376 58.76623 Democratic Win \n",
              "1868 2018 WI    Class I     55.41856 49.62647 Democratic Win \n",
              "1869 2018 WV    Class I     51.72687 27.86540 Democratic Win \n",
              "1870 2018 WY    Class I     31.01090 24.30633 Republican Win "
            ]
          },
          "metadata": {}
        },
        {
          "output_type": "display_data",
          "data": {
            "text/html": [
              "<style>\n",
              ".list-inline {list-style: none; margin:0; padding: 0}\n",
              ".list-inline>li {display: inline-block}\n",
              ".list-inline>li:not(:last-child)::after {content: \"\\00b7\"; padding: 0 .5ex}\n",
              "</style>\n",
              "<ol class=list-inline><li>35</li><li>6</li></ol>\n"
            ],
            "text/markdown": "1. 35\n2. 6\n\n\n",
            "text/latex": "\\begin{enumerate*}\n\\item 35\n\\item 6\n\\end{enumerate*}\n",
            "text/plain": [
              "[1] 35  6"
            ]
          },
          "metadata": {}
        }
      ]
    },
    {
      "cell_type": "code",
      "source": [
        "AZ_S = S %>% filter(state == 'AZ')\n",
        "GA_S = S %>% filter(state == 'GA')\n",
        "MI_S = S %>% filter(state == 'MI')\n",
        "NV_S = S %>% filter(state == 'NV')\n",
        "NC_S = S %>% filter(state == 'NC')\n",
        "PA_S = S %>% filter(state == 'PA')\n",
        "WI_S = S %>% filter(state == 'WI')\n",
        "\n",
        "F = rbind(AZ_S,GA_S,MI_S,NV_S,NC_S,PA_S,WI_S)\n",
        "F\n",
        "\n",
        "\n",
        "#SS = S[S['state'] == c('AZ','GA','MI','NV','NC','PA','WI'),]\n",
        "#SS"
      ],
      "metadata": {
        "colab": {
          "base_uri": "https://localhost:8080/",
          "height": 1000
        },
        "id": "2ujyzvlhu5eX",
        "outputId": "269ad71a-2677-4a21-d153-bd7f34b940db"
      },
      "execution_count": null,
      "outputs": [
        {
          "output_type": "display_data",
          "data": {
            "text/html": [
              "<table class=\"dataframe\">\n",
              "<caption>A data.frame: 48 × 6</caption>\n",
              "<thead>\n",
              "\t<tr><th scope=col>year</th><th scope=col>state</th><th scope=col>seat_class</th><th scope=col>dv</th><th scope=col>dpres</th><th scope=col>pwin</th></tr>\n",
              "\t<tr><th scope=col>&lt;dbl&gt;</th><th scope=col>&lt;chr&gt;</th><th scope=col>&lt;chr&gt;</th><th scope=col>&lt;dbl&gt;</th><th scope=col>&lt;dbl&gt;</th><th scope=col>&lt;chr&gt;</th></tr>\n",
              "</thead>\n",
              "<tbody>\n",
              "\t<tr><td>2000</td><td>AZ</td><td>Class I  </td><td> 0.00000</td><td>46.70846</td><td>Republican Win</td></tr>\n",
              "\t<tr><td>2004</td><td>AZ</td><td>Class III</td><td>21.17972</td><td>44.71299</td><td>Republican Win</td></tr>\n",
              "\t<tr><td>2006</td><td>AZ</td><td>Class I  </td><td>44.91873</td><td>44.71299</td><td>Republican Win</td></tr>\n",
              "\t<tr><td>2010</td><td>AZ</td><td>Class III</td><td>37.05567</td><td>45.69402</td><td>Republican Win</td></tr>\n",
              "\t<tr><td>2012</td><td>AZ</td><td>Class I  </td><td>48.41394</td><td>45.37131</td><td>Republican Win</td></tr>\n",
              "\t<tr><td>2016</td><td>AZ</td><td>Class III</td><td>43.13908</td><td>48.08102</td><td>Republican Win</td></tr>\n",
              "\t<tr><td>2018</td><td>AZ</td><td>Class I  </td><td>51.20148</td><td>48.08102</td><td>Democratic Win</td></tr>\n",
              "\t<tr><td>2000</td><td>GA</td><td>Class III</td><td>60.55717</td><td>44.01228</td><td>Democratic Win</td></tr>\n",
              "\t<tr><td>2002</td><td>GA</td><td>Class II </td><td>46.52283</td><td>44.01228</td><td>Republican Win</td></tr>\n",
              "\t<tr><td>2004</td><td>GA</td><td>Class III</td><td>40.85456</td><td>41.64990</td><td>Republican Win</td></tr>\n",
              "\t<tr><td>2008</td><td>GA</td><td>Class II </td><td>42.56042</td><td>47.37903</td><td>Republican Win</td></tr>\n",
              "\t<tr><td>2010</td><td>GA</td><td>Class III</td><td>40.07835</td><td>47.37903</td><td>Republican Win</td></tr>\n",
              "\t<tr><td>2014</td><td>GA</td><td>Class II </td><td>46.08406</td><td>46.05263</td><td>Republican Win</td></tr>\n",
              "\t<tr><td>2016</td><td>GA</td><td>Class III</td><td>42.82458</td><td>47.36842</td><td>Republican Win</td></tr>\n",
              "\t<tr><td>2000</td><td>MI</td><td>Class I  </td><td>50.82463</td><td>52.66940</td><td>Democratic Win</td></tr>\n",
              "\t<tr><td>2002</td><td>MI</td><td>Class II </td><td>61.53524</td><td>52.66940</td><td>Democratic Win</td></tr>\n",
              "\t<tr><td>2006</td><td>MI</td><td>Class I  </td><td>57.97226</td><td>51.71717</td><td>Democratic Win</td></tr>\n",
              "\t<tr><td>2008</td><td>MI</td><td>Class II </td><td>64.93033</td><td>58.33333</td><td>Democratic Win</td></tr>\n",
              "\t<tr><td>2012</td><td>MI</td><td>Class I  </td><td>60.75277</td><td>54.80283</td><td>Democratic Win</td></tr>\n",
              "\t<tr><td>2014</td><td>MI</td><td>Class II </td><td>56.92351</td><td>54.80283</td><td>Democratic Win</td></tr>\n",
              "\t<tr><td>2018</td><td>MI</td><td>Class I  </td><td>53.31857</td><td>49.89451</td><td>Democratic Win</td></tr>\n",
              "\t<tr><td>2000</td><td>NV</td><td>Class I  </td><td>41.87736</td><td>48.16754</td><td>Republican Win</td></tr>\n",
              "\t<tr><td>2004</td><td>NV</td><td>Class III</td><td>63.48171</td><td>48.67886</td><td>Democratic Win</td></tr>\n",
              "\t<tr><td>2006</td><td>NV</td><td>Class I  </td><td>42.54361</td><td>48.67886</td><td>Republican Win</td></tr>\n",
              "\t<tr><td>2010</td><td>NV</td><td>Class III</td><td>53.02742</td><td>56.33947</td><td>Democratic Win</td></tr>\n",
              "\t<tr><td>2012</td><td>NV</td><td>Class I  </td><td>49.35955</td><td>53.41488</td><td>Republican Win</td></tr>\n",
              "\t<tr><td>2016</td><td>NV</td><td>Class III</td><td>51.32316</td><td>51.28480</td><td>Democratic Win</td></tr>\n",
              "\t<tr><td>2018</td><td>NV</td><td>Class I  </td><td>52.62377</td><td>51.28480</td><td>Republican Win</td></tr>\n",
              "\t<tr><td>2002</td><td>NC</td><td>Class II </td><td>45.63100</td><td>43.54839</td><td>Republican Win</td></tr>\n",
              "\t<tr><td>2004</td><td>NC</td><td>Class III</td><td>47.67926</td><td>43.77510</td><td>Republican Win</td></tr>\n",
              "\t<tr><td>2008</td><td>NC</td><td>Class II </td><td>54.37294</td><td>50.15136</td><td>Democratic Win</td></tr>\n",
              "\t<tr><td>2010</td><td>NC</td><td>Class III</td><td>43.98852</td><td>50.15136</td><td>Republican Win</td></tr>\n",
              "\t<tr><td>2014</td><td>NC</td><td>Class II </td><td>49.18584</td><td>48.98785</td><td>Republican Win</td></tr>\n",
              "\t<tr><td>2016</td><td>NC</td><td>Class III</td><td>47.04644</td><td>48.12500</td><td>Republican Win</td></tr>\n",
              "\t<tr><td>2000</td><td>PA</td><td>Class I  </td><td>46.47333</td><td>52.16495</td><td>Republican Win</td></tr>\n",
              "\t<tr><td>2004</td><td>PA</td><td>Class III</td><td>44.38172</td><td>51.25881</td><td>Republican Win</td></tr>\n",
              "\t<tr><td>2006</td><td>PA</td><td>Class I  </td><td>58.68376</td><td>51.25881</td><td>Democratic Win</td></tr>\n",
              "\t<tr><td>2010</td><td>PA</td><td>Class III</td><td>48.99151</td><td>55.21783</td><td>Republican Win</td></tr>\n",
              "\t<tr><td>2012</td><td>PA</td><td>Class I  </td><td>54.63098</td><td>52.73834</td><td>Democratic Win</td></tr>\n",
              "\t<tr><td>2016</td><td>PA</td><td>Class III</td><td>49.25482</td><td>49.63731</td><td>Republican Win</td></tr>\n",
              "\t<tr><td>2018</td><td>PA</td><td>Class I  </td><td>56.67293</td><td>49.63731</td><td>Democratic Win</td></tr>\n",
              "\t<tr><td>2000</td><td>WI</td><td>Class I  </td><td>62.43008</td><td>50.10482</td><td>Democratic Win</td></tr>\n",
              "\t<tr><td>2004</td><td>WI</td><td>Class III</td><td>55.64975</td><td>50.20202</td><td>Democratic Win</td></tr>\n",
              "\t<tr><td>2006</td><td>WI</td><td>Class I  </td><td>69.54361</td><td>50.20202</td><td>Democratic Win</td></tr>\n",
              "\t<tr><td>2010</td><td>WI</td><td>Class III</td><td>47.55372</td><td>57.05584</td><td>Republican Win</td></tr>\n",
              "\t<tr><td>2012</td><td>WI</td><td>Class I  </td><td>52.85215</td><td>53.49544</td><td>Democratic Win</td></tr>\n",
              "\t<tr><td>2016</td><td>WI</td><td>Class III</td><td>48.26674</td><td>49.62647</td><td>Republican Win</td></tr>\n",
              "\t<tr><td>2018</td><td>WI</td><td>Class I  </td><td>55.41856</td><td>49.62647</td><td>Democratic Win</td></tr>\n",
              "</tbody>\n",
              "</table>\n"
            ],
            "text/markdown": "\nA data.frame: 48 × 6\n\n| year &lt;dbl&gt; | state &lt;chr&gt; | seat_class &lt;chr&gt; | dv &lt;dbl&gt; | dpres &lt;dbl&gt; | pwin &lt;chr&gt; |\n|---|---|---|---|---|---|\n| 2000 | AZ | Class I   |  0.00000 | 46.70846 | Republican Win |\n| 2004 | AZ | Class III | 21.17972 | 44.71299 | Republican Win |\n| 2006 | AZ | Class I   | 44.91873 | 44.71299 | Republican Win |\n| 2010 | AZ | Class III | 37.05567 | 45.69402 | Republican Win |\n| 2012 | AZ | Class I   | 48.41394 | 45.37131 | Republican Win |\n| 2016 | AZ | Class III | 43.13908 | 48.08102 | Republican Win |\n| 2018 | AZ | Class I   | 51.20148 | 48.08102 | Democratic Win |\n| 2000 | GA | Class III | 60.55717 | 44.01228 | Democratic Win |\n| 2002 | GA | Class II  | 46.52283 | 44.01228 | Republican Win |\n| 2004 | GA | Class III | 40.85456 | 41.64990 | Republican Win |\n| 2008 | GA | Class II  | 42.56042 | 47.37903 | Republican Win |\n| 2010 | GA | Class III | 40.07835 | 47.37903 | Republican Win |\n| 2014 | GA | Class II  | 46.08406 | 46.05263 | Republican Win |\n| 2016 | GA | Class III | 42.82458 | 47.36842 | Republican Win |\n| 2000 | MI | Class I   | 50.82463 | 52.66940 | Democratic Win |\n| 2002 | MI | Class II  | 61.53524 | 52.66940 | Democratic Win |\n| 2006 | MI | Class I   | 57.97226 | 51.71717 | Democratic Win |\n| 2008 | MI | Class II  | 64.93033 | 58.33333 | Democratic Win |\n| 2012 | MI | Class I   | 60.75277 | 54.80283 | Democratic Win |\n| 2014 | MI | Class II  | 56.92351 | 54.80283 | Democratic Win |\n| 2018 | MI | Class I   | 53.31857 | 49.89451 | Democratic Win |\n| 2000 | NV | Class I   | 41.87736 | 48.16754 | Republican Win |\n| 2004 | NV | Class III | 63.48171 | 48.67886 | Democratic Win |\n| 2006 | NV | Class I   | 42.54361 | 48.67886 | Republican Win |\n| 2010 | NV | Class III | 53.02742 | 56.33947 | Democratic Win |\n| 2012 | NV | Class I   | 49.35955 | 53.41488 | Republican Win |\n| 2016 | NV | Class III | 51.32316 | 51.28480 | Democratic Win |\n| 2018 | NV | Class I   | 52.62377 | 51.28480 | Republican Win |\n| 2002 | NC | Class II  | 45.63100 | 43.54839 | Republican Win |\n| 2004 | NC | Class III | 47.67926 | 43.77510 | Republican Win |\n| 2008 | NC | Class II  | 54.37294 | 50.15136 | Democratic Win |\n| 2010 | NC | Class III | 43.98852 | 50.15136 | Republican Win |\n| 2014 | NC | Class II  | 49.18584 | 48.98785 | Republican Win |\n| 2016 | NC | Class III | 47.04644 | 48.12500 | Republican Win |\n| 2000 | PA | Class I   | 46.47333 | 52.16495 | Republican Win |\n| 2004 | PA | Class III | 44.38172 | 51.25881 | Republican Win |\n| 2006 | PA | Class I   | 58.68376 | 51.25881 | Democratic Win |\n| 2010 | PA | Class III | 48.99151 | 55.21783 | Republican Win |\n| 2012 | PA | Class I   | 54.63098 | 52.73834 | Democratic Win |\n| 2016 | PA | Class III | 49.25482 | 49.63731 | Republican Win |\n| 2018 | PA | Class I   | 56.67293 | 49.63731 | Democratic Win |\n| 2000 | WI | Class I   | 62.43008 | 50.10482 | Democratic Win |\n| 2004 | WI | Class III | 55.64975 | 50.20202 | Democratic Win |\n| 2006 | WI | Class I   | 69.54361 | 50.20202 | Democratic Win |\n| 2010 | WI | Class III | 47.55372 | 57.05584 | Republican Win |\n| 2012 | WI | Class I   | 52.85215 | 53.49544 | Democratic Win |\n| 2016 | WI | Class III | 48.26674 | 49.62647 | Republican Win |\n| 2018 | WI | Class I   | 55.41856 | 49.62647 | Democratic Win |\n\n",
            "text/latex": "A data.frame: 48 × 6\n\\begin{tabular}{llllll}\n year & state & seat\\_class & dv & dpres & pwin\\\\\n <dbl> & <chr> & <chr> & <dbl> & <dbl> & <chr>\\\\\n\\hline\n\t 2000 & AZ & Class I   &  0.00000 & 46.70846 & Republican Win\\\\\n\t 2004 & AZ & Class III & 21.17972 & 44.71299 & Republican Win\\\\\n\t 2006 & AZ & Class I   & 44.91873 & 44.71299 & Republican Win\\\\\n\t 2010 & AZ & Class III & 37.05567 & 45.69402 & Republican Win\\\\\n\t 2012 & AZ & Class I   & 48.41394 & 45.37131 & Republican Win\\\\\n\t 2016 & AZ & Class III & 43.13908 & 48.08102 & Republican Win\\\\\n\t 2018 & AZ & Class I   & 51.20148 & 48.08102 & Democratic Win\\\\\n\t 2000 & GA & Class III & 60.55717 & 44.01228 & Democratic Win\\\\\n\t 2002 & GA & Class II  & 46.52283 & 44.01228 & Republican Win\\\\\n\t 2004 & GA & Class III & 40.85456 & 41.64990 & Republican Win\\\\\n\t 2008 & GA & Class II  & 42.56042 & 47.37903 & Republican Win\\\\\n\t 2010 & GA & Class III & 40.07835 & 47.37903 & Republican Win\\\\\n\t 2014 & GA & Class II  & 46.08406 & 46.05263 & Republican Win\\\\\n\t 2016 & GA & Class III & 42.82458 & 47.36842 & Republican Win\\\\\n\t 2000 & MI & Class I   & 50.82463 & 52.66940 & Democratic Win\\\\\n\t 2002 & MI & Class II  & 61.53524 & 52.66940 & Democratic Win\\\\\n\t 2006 & MI & Class I   & 57.97226 & 51.71717 & Democratic Win\\\\\n\t 2008 & MI & Class II  & 64.93033 & 58.33333 & Democratic Win\\\\\n\t 2012 & MI & Class I   & 60.75277 & 54.80283 & Democratic Win\\\\\n\t 2014 & MI & Class II  & 56.92351 & 54.80283 & Democratic Win\\\\\n\t 2018 & MI & Class I   & 53.31857 & 49.89451 & Democratic Win\\\\\n\t 2000 & NV & Class I   & 41.87736 & 48.16754 & Republican Win\\\\\n\t 2004 & NV & Class III & 63.48171 & 48.67886 & Democratic Win\\\\\n\t 2006 & NV & Class I   & 42.54361 & 48.67886 & Republican Win\\\\\n\t 2010 & NV & Class III & 53.02742 & 56.33947 & Democratic Win\\\\\n\t 2012 & NV & Class I   & 49.35955 & 53.41488 & Republican Win\\\\\n\t 2016 & NV & Class III & 51.32316 & 51.28480 & Democratic Win\\\\\n\t 2018 & NV & Class I   & 52.62377 & 51.28480 & Republican Win\\\\\n\t 2002 & NC & Class II  & 45.63100 & 43.54839 & Republican Win\\\\\n\t 2004 & NC & Class III & 47.67926 & 43.77510 & Republican Win\\\\\n\t 2008 & NC & Class II  & 54.37294 & 50.15136 & Democratic Win\\\\\n\t 2010 & NC & Class III & 43.98852 & 50.15136 & Republican Win\\\\\n\t 2014 & NC & Class II  & 49.18584 & 48.98785 & Republican Win\\\\\n\t 2016 & NC & Class III & 47.04644 & 48.12500 & Republican Win\\\\\n\t 2000 & PA & Class I   & 46.47333 & 52.16495 & Republican Win\\\\\n\t 2004 & PA & Class III & 44.38172 & 51.25881 & Republican Win\\\\\n\t 2006 & PA & Class I   & 58.68376 & 51.25881 & Democratic Win\\\\\n\t 2010 & PA & Class III & 48.99151 & 55.21783 & Republican Win\\\\\n\t 2012 & PA & Class I   & 54.63098 & 52.73834 & Democratic Win\\\\\n\t 2016 & PA & Class III & 49.25482 & 49.63731 & Republican Win\\\\\n\t 2018 & PA & Class I   & 56.67293 & 49.63731 & Democratic Win\\\\\n\t 2000 & WI & Class I   & 62.43008 & 50.10482 & Democratic Win\\\\\n\t 2004 & WI & Class III & 55.64975 & 50.20202 & Democratic Win\\\\\n\t 2006 & WI & Class I   & 69.54361 & 50.20202 & Democratic Win\\\\\n\t 2010 & WI & Class III & 47.55372 & 57.05584 & Republican Win\\\\\n\t 2012 & WI & Class I   & 52.85215 & 53.49544 & Democratic Win\\\\\n\t 2016 & WI & Class III & 48.26674 & 49.62647 & Republican Win\\\\\n\t 2018 & WI & Class I   & 55.41856 & 49.62647 & Democratic Win\\\\\n\\end{tabular}\n",
            "text/plain": [
              "   year state seat_class dv       dpres    pwin          \n",
              "1  2000 AZ    Class I     0.00000 46.70846 Republican Win\n",
              "2  2004 AZ    Class III  21.17972 44.71299 Republican Win\n",
              "3  2006 AZ    Class I    44.91873 44.71299 Republican Win\n",
              "4  2010 AZ    Class III  37.05567 45.69402 Republican Win\n",
              "5  2012 AZ    Class I    48.41394 45.37131 Republican Win\n",
              "6  2016 AZ    Class III  43.13908 48.08102 Republican Win\n",
              "7  2018 AZ    Class I    51.20148 48.08102 Democratic Win\n",
              "8  2000 GA    Class III  60.55717 44.01228 Democratic Win\n",
              "9  2002 GA    Class II   46.52283 44.01228 Republican Win\n",
              "10 2004 GA    Class III  40.85456 41.64990 Republican Win\n",
              "11 2008 GA    Class II   42.56042 47.37903 Republican Win\n",
              "12 2010 GA    Class III  40.07835 47.37903 Republican Win\n",
              "13 2014 GA    Class II   46.08406 46.05263 Republican Win\n",
              "14 2016 GA    Class III  42.82458 47.36842 Republican Win\n",
              "15 2000 MI    Class I    50.82463 52.66940 Democratic Win\n",
              "16 2002 MI    Class II   61.53524 52.66940 Democratic Win\n",
              "17 2006 MI    Class I    57.97226 51.71717 Democratic Win\n",
              "18 2008 MI    Class II   64.93033 58.33333 Democratic Win\n",
              "19 2012 MI    Class I    60.75277 54.80283 Democratic Win\n",
              "20 2014 MI    Class II   56.92351 54.80283 Democratic Win\n",
              "21 2018 MI    Class I    53.31857 49.89451 Democratic Win\n",
              "22 2000 NV    Class I    41.87736 48.16754 Republican Win\n",
              "23 2004 NV    Class III  63.48171 48.67886 Democratic Win\n",
              "24 2006 NV    Class I    42.54361 48.67886 Republican Win\n",
              "25 2010 NV    Class III  53.02742 56.33947 Democratic Win\n",
              "26 2012 NV    Class I    49.35955 53.41488 Republican Win\n",
              "27 2016 NV    Class III  51.32316 51.28480 Democratic Win\n",
              "28 2018 NV    Class I    52.62377 51.28480 Republican Win\n",
              "29 2002 NC    Class II   45.63100 43.54839 Republican Win\n",
              "30 2004 NC    Class III  47.67926 43.77510 Republican Win\n",
              "31 2008 NC    Class II   54.37294 50.15136 Democratic Win\n",
              "32 2010 NC    Class III  43.98852 50.15136 Republican Win\n",
              "33 2014 NC    Class II   49.18584 48.98785 Republican Win\n",
              "34 2016 NC    Class III  47.04644 48.12500 Republican Win\n",
              "35 2000 PA    Class I    46.47333 52.16495 Republican Win\n",
              "36 2004 PA    Class III  44.38172 51.25881 Republican Win\n",
              "37 2006 PA    Class I    58.68376 51.25881 Democratic Win\n",
              "38 2010 PA    Class III  48.99151 55.21783 Republican Win\n",
              "39 2012 PA    Class I    54.63098 52.73834 Democratic Win\n",
              "40 2016 PA    Class III  49.25482 49.63731 Republican Win\n",
              "41 2018 PA    Class I    56.67293 49.63731 Democratic Win\n",
              "42 2000 WI    Class I    62.43008 50.10482 Democratic Win\n",
              "43 2004 WI    Class III  55.64975 50.20202 Democratic Win\n",
              "44 2006 WI    Class I    69.54361 50.20202 Democratic Win\n",
              "45 2010 WI    Class III  47.55372 57.05584 Republican Win\n",
              "46 2012 WI    Class I    52.85215 53.49544 Democratic Win\n",
              "47 2016 WI    Class III  48.26674 49.62647 Republican Win\n",
              "48 2018 WI    Class I    55.41856 49.62647 Democratic Win"
            ]
          },
          "metadata": {}
        }
      ]
    },
    {
      "cell_type": "code",
      "source": [
        "library(readr)\n",
        "library(readxl)\n",
        "library(dplyr)"
      ],
      "metadata": {
        "colab": {
          "base_uri": "https://localhost:8080/"
        },
        "id": "mFAbXkr0GJIW",
        "outputId": "31080918-a47b-43b6-cabb-b0ce58868353"
      },
      "execution_count": null,
      "outputs": [
        {
          "output_type": "stream",
          "name": "stderr",
          "text": [
            "\n",
            "Attaching package: ‘dplyr’\n",
            "\n",
            "\n",
            "The following objects are masked from ‘package:stats’:\n",
            "\n",
            "    filter, lag\n",
            "\n",
            "\n",
            "The following objects are masked from ‘package:base’:\n",
            "\n",
            "    intersect, setdiff, setequal, union\n",
            "\n",
            "\n"
          ]
        }
      ]
    },
    {
      "cell_type": "code",
      "source": [
        "senate = read_csv(\"1976-2020-senate.csv\")\n",
        "S = as.data.frame(senate)\n",
        "indx = S['year'] >= '2004'\n",
        "SS = S[indx,-c(2,4:14,17,18)]\n",
        "SX = SS %>% mutate(proop=candidatevotes/totalvotes)\n",
        "\n",
        "AZ_S = SX %>% filter(state_po == 'AZ')\n",
        "GA_S = SX %>% filter(state_po == 'GA')\n",
        "MI_S = SX %>% filter(state_po == 'MI')\n",
        "NV_S = SX %>% filter(state_po == 'NV')\n",
        "NC_S = SX %>% filter(state_po == 'NC')\n",
        "PA_S = SX %>% filter(state_po == 'PA')\n",
        "WI_S = SX %>% filter(state_po == 'WI')\n",
        "\n",
        "U = rbind(AZ_S,GA_S,MI_S,NV_S,NC_S,PA_S,WI_S)\n",
        "temps = U %>% group_by(year, state_po) %>% summarise(max = max(proop), .groups = 'drop')\n",
        "\n",
        "WINS_sen = U %>% mutate(winner = proop %in% temps$max) %>% filter(winner == TRUE)\n",
        "WINS_sen"
      ],
      "metadata": {
        "colab": {
          "base_uri": "https://localhost:8080/",
          "height": 1000
        },
        "id": "E8AwAwcdj-0_",
        "outputId": "b6fbf1a3-53dd-42e5-f345-26a81bb6d046"
      },
      "execution_count": null,
      "outputs": [
        {
          "output_type": "stream",
          "name": "stderr",
          "text": [
            "\u001b[1mRows: \u001b[22m\u001b[34m3629\u001b[39m \u001b[1mColumns: \u001b[22m\u001b[34m19\u001b[39m\n",
            "\u001b[36m──\u001b[39m \u001b[1mColumn specification\u001b[22m \u001b[36m────────────────────────────────────────────────────────\u001b[39m\n",
            "\u001b[1mDelimiter:\u001b[22m \",\"\n",
            "\u001b[31mchr\u001b[39m (9): state, state_po, office, district, stage, candidate, party_detailed...\n",
            "\u001b[32mdbl\u001b[39m (7): year, state_fips, state_cen, state_ic, candidatevotes, totalvotes, ...\n",
            "\u001b[33mlgl\u001b[39m (3): special, writein, unofficial\n",
            "\n",
            "\u001b[36mℹ\u001b[39m Use `spec()` to retrieve the full column specification for this data.\n",
            "\u001b[36mℹ\u001b[39m Specify the column types or set `show_col_types = FALSE` to quiet this message.\n"
          ]
        },
        {
          "output_type": "display_data",
          "data": {
            "text/html": [
              "<table class=\"dataframe\">\n",
              "<caption>A data.frame: 44 × 7</caption>\n",
              "<thead>\n",
              "\t<tr><th scope=col>year</th><th scope=col>state_po</th><th scope=col>candidatevotes</th><th scope=col>totalvotes</th><th scope=col>party_simplified</th><th scope=col>proop</th><th scope=col>winner</th></tr>\n",
              "\t<tr><th scope=col>&lt;dbl&gt;</th><th scope=col>&lt;chr&gt;</th><th scope=col>&lt;dbl&gt;</th><th scope=col>&lt;dbl&gt;</th><th scope=col>&lt;chr&gt;</th><th scope=col>&lt;dbl&gt;</th><th scope=col>&lt;lgl&gt;</th></tr>\n",
              "</thead>\n",
              "<tbody>\n",
              "\t<tr><td>2004</td><td>AZ</td><td>1505372</td><td>1961677</td><td>REPUBLICAN</td><td>0.7673904</td><td>TRUE</td></tr>\n",
              "\t<tr><td>2006</td><td>AZ</td><td> 814398</td><td>1526782</td><td>REPUBLICAN</td><td>0.5334082</td><td>TRUE</td></tr>\n",
              "\t<tr><td>2010</td><td>AZ</td><td>1005615</td><td>1708484</td><td>REPUBLICAN</td><td>0.5886008</td><td>TRUE</td></tr>\n",
              "\t<tr><td>2012</td><td>AZ</td><td>1104457</td><td>2243422</td><td>REPUBLICAN</td><td>0.4923091</td><td>TRUE</td></tr>\n",
              "\t<tr><td>2016</td><td>AZ</td><td>1359267</td><td>2530730</td><td>REPUBLICAN</td><td>0.5371047</td><td>TRUE</td></tr>\n",
              "\t<tr><td>2018</td><td>AZ</td><td>1191100</td><td>2384308</td><td>DEMOCRAT  </td><td>0.4995579</td><td>TRUE</td></tr>\n",
              "\t<tr><td>2020</td><td>AZ</td><td>1716467</td><td>3355307</td><td>DEMOCRAT  </td><td>0.5115678</td><td>TRUE</td></tr>\n",
              "\t<tr><td>2004</td><td>GA</td><td>1864202</td><td>3220981</td><td>REPUBLICAN</td><td>0.5787684</td><td>TRUE</td></tr>\n",
              "\t<tr><td>2008</td><td>GA</td><td>1228033</td><td>2137956</td><td>REPUBLICAN</td><td>0.5743958</td><td>TRUE</td></tr>\n",
              "\t<tr><td>2010</td><td>GA</td><td>1489904</td><td>2555258</td><td>REPUBLICAN</td><td>0.5830738</td><td>TRUE</td></tr>\n",
              "\t<tr><td>2014</td><td>GA</td><td>1358088</td><td>2567805</td><td>REPUBLICAN</td><td>0.5288906</td><td>TRUE</td></tr>\n",
              "\t<tr><td>2016</td><td>GA</td><td>2135806</td><td>3898605</td><td>REPUBLICAN</td><td>0.5478385</td><td>TRUE</td></tr>\n",
              "\t<tr><td>2020</td><td>GA</td><td>2462617</td><td>4952175</td><td>REPUBLICAN</td><td>0.4972799</td><td>TRUE</td></tr>\n",
              "\t<tr><td>2021</td><td>GA</td><td>2288446</td><td>4483294</td><td>DEMOCRAT  </td><td>0.5104385</td><td>TRUE</td></tr>\n",
              "\t<tr><td>2006</td><td>MI</td><td>2151278</td><td>3780142</td><td>DEMOCRAT  </td><td>0.5690998</td><td>TRUE</td></tr>\n",
              "\t<tr><td>2008</td><td>MI</td><td>3038386</td><td>4848620</td><td>DEMOCRAT  </td><td>0.6266496</td><td>TRUE</td></tr>\n",
              "\t<tr><td>2012</td><td>MI</td><td>2735826</td><td>4652918</td><td>DEMOCRAT  </td><td>0.5879807</td><td>TRUE</td></tr>\n",
              "\t<tr><td>2014</td><td>MI</td><td>1704936</td><td>3121771</td><td>DEMOCRAT  </td><td>0.5461438</td><td>TRUE</td></tr>\n",
              "\t<tr><td>2018</td><td>MI</td><td>2214478</td><td>4237271</td><td>DEMOCRAT  </td><td>0.5226189</td><td>TRUE</td></tr>\n",
              "\t<tr><td>2020</td><td>MI</td><td>2734568</td><td>5479720</td><td>DEMOCRAT  </td><td>0.4990343</td><td>TRUE</td></tr>\n",
              "\t<tr><td>2004</td><td>NV</td><td> 494805</td><td> 810068</td><td>DEMOCRAT  </td><td>0.6108191</td><td>TRUE</td></tr>\n",
              "\t<tr><td>2006</td><td>NV</td><td> 322501</td><td> 582572</td><td>REPUBLICAN</td><td>0.5535814</td><td>TRUE</td></tr>\n",
              "\t<tr><td>2010</td><td>NV</td><td> 362785</td><td> 721404</td><td>DEMOCRAT  </td><td>0.5028874</td><td>TRUE</td></tr>\n",
              "\t<tr><td>2012</td><td>NV</td><td> 457656</td><td> 997805</td><td>REPUBLICAN</td><td>0.4586628</td><td>TRUE</td></tr>\n",
              "\t<tr><td>2016</td><td>NV</td><td> 521994</td><td>1108294</td><td>DEMOCRAT  </td><td>0.4709887</td><td>TRUE</td></tr>\n",
              "\t<tr><td>2018</td><td>NV</td><td> 490071</td><td> 972132</td><td>DEMOCRAT  </td><td>0.5041198</td><td>TRUE</td></tr>\n",
              "\t<tr><td>2004</td><td>NC</td><td>1791450</td><td>3472082</td><td>REPUBLICAN</td><td>0.5159584</td><td>TRUE</td></tr>\n",
              "\t<tr><td>2008</td><td>NC</td><td>2249311</td><td>4271970</td><td>DEMOCRAT  </td><td>0.5265278</td><td>TRUE</td></tr>\n",
              "\t<tr><td>2010</td><td>NC</td><td>1458046</td><td>2660079</td><td>REPUBLICAN</td><td>0.5481213</td><td>TRUE</td></tr>\n",
              "\t<tr><td>2014</td><td>NC</td><td>1423259</td><td>2915281</td><td>REPUBLICAN</td><td>0.4882065</td><td>TRUE</td></tr>\n",
              "\t<tr><td>2016</td><td>NC</td><td>2395376</td><td>4691133</td><td>REPUBLICAN</td><td>0.5106178</td><td>TRUE</td></tr>\n",
              "\t<tr><td>2020</td><td>NC</td><td>2665598</td><td>5474952</td><td>REPUBLICAN</td><td>0.4868715</td><td>TRUE</td></tr>\n",
              "\t<tr><td>2004</td><td>PA</td><td>2925080</td><td>5559105</td><td>REPUBLICAN</td><td>0.5261782</td><td>TRUE</td></tr>\n",
              "\t<tr><td>2006</td><td>PA</td><td>2392984</td><td>4081043</td><td>DEMOCRAT  </td><td>0.5863658</td><td>TRUE</td></tr>\n",
              "\t<tr><td>2010</td><td>PA</td><td>2028945</td><td>3977661</td><td>REPUBLICAN</td><td>0.5100849</td><td>TRUE</td></tr>\n",
              "\t<tr><td>2012</td><td>PA</td><td>3021364</td><td>5627422</td><td>DEMOCRAT  </td><td>0.5369002</td><td>TRUE</td></tr>\n",
              "\t<tr><td>2016</td><td>PA</td><td>2951702</td><td>6051856</td><td>REPUBLICAN</td><td>0.4877350</td><td>TRUE</td></tr>\n",
              "\t<tr><td>2018</td><td>PA</td><td>2777680</td><td>4994643</td><td>DEMOCRAT  </td><td>0.5561318</td><td>TRUE</td></tr>\n",
              "\t<tr><td>2004</td><td>WI</td><td>1632697</td><td>2949743</td><td>DEMOCRAT  </td><td>0.5535048</td><td>TRUE</td></tr>\n",
              "\t<tr><td>2006</td><td>WI</td><td>1439214</td><td>2138297</td><td>DEMOCRAT  </td><td>0.6730655</td><td>TRUE</td></tr>\n",
              "\t<tr><td>2010</td><td>WI</td><td>1125999</td><td>2171331</td><td>REPUBLICAN</td><td>0.5185755</td><td>TRUE</td></tr>\n",
              "\t<tr><td>2012</td><td>WI</td><td>1547104</td><td>3009411</td><td>DEMOCRAT  </td><td>0.5140886</td><td>TRUE</td></tr>\n",
              "\t<tr><td>2016</td><td>WI</td><td>1479471</td><td>2948741</td><td>REPUBLICAN</td><td>0.5017297</td><td>TRUE</td></tr>\n",
              "\t<tr><td>2018</td><td>WI</td><td>1472914</td><td>2657841</td><td>DEMOCRAT  </td><td>0.5541769</td><td>TRUE</td></tr>\n",
              "</tbody>\n",
              "</table>\n"
            ],
            "text/markdown": "\nA data.frame: 44 × 7\n\n| year &lt;dbl&gt; | state_po &lt;chr&gt; | candidatevotes &lt;dbl&gt; | totalvotes &lt;dbl&gt; | party_simplified &lt;chr&gt; | proop &lt;dbl&gt; | winner &lt;lgl&gt; |\n|---|---|---|---|---|---|---|\n| 2004 | AZ | 1505372 | 1961677 | REPUBLICAN | 0.7673904 | TRUE |\n| 2006 | AZ |  814398 | 1526782 | REPUBLICAN | 0.5334082 | TRUE |\n| 2010 | AZ | 1005615 | 1708484 | REPUBLICAN | 0.5886008 | TRUE |\n| 2012 | AZ | 1104457 | 2243422 | REPUBLICAN | 0.4923091 | TRUE |\n| 2016 | AZ | 1359267 | 2530730 | REPUBLICAN | 0.5371047 | TRUE |\n| 2018 | AZ | 1191100 | 2384308 | DEMOCRAT   | 0.4995579 | TRUE |\n| 2020 | AZ | 1716467 | 3355307 | DEMOCRAT   | 0.5115678 | TRUE |\n| 2004 | GA | 1864202 | 3220981 | REPUBLICAN | 0.5787684 | TRUE |\n| 2008 | GA | 1228033 | 2137956 | REPUBLICAN | 0.5743958 | TRUE |\n| 2010 | GA | 1489904 | 2555258 | REPUBLICAN | 0.5830738 | TRUE |\n| 2014 | GA | 1358088 | 2567805 | REPUBLICAN | 0.5288906 | TRUE |\n| 2016 | GA | 2135806 | 3898605 | REPUBLICAN | 0.5478385 | TRUE |\n| 2020 | GA | 2462617 | 4952175 | REPUBLICAN | 0.4972799 | TRUE |\n| 2021 | GA | 2288446 | 4483294 | DEMOCRAT   | 0.5104385 | TRUE |\n| 2006 | MI | 2151278 | 3780142 | DEMOCRAT   | 0.5690998 | TRUE |\n| 2008 | MI | 3038386 | 4848620 | DEMOCRAT   | 0.6266496 | TRUE |\n| 2012 | MI | 2735826 | 4652918 | DEMOCRAT   | 0.5879807 | TRUE |\n| 2014 | MI | 1704936 | 3121771 | DEMOCRAT   | 0.5461438 | TRUE |\n| 2018 | MI | 2214478 | 4237271 | DEMOCRAT   | 0.5226189 | TRUE |\n| 2020 | MI | 2734568 | 5479720 | DEMOCRAT   | 0.4990343 | TRUE |\n| 2004 | NV |  494805 |  810068 | DEMOCRAT   | 0.6108191 | TRUE |\n| 2006 | NV |  322501 |  582572 | REPUBLICAN | 0.5535814 | TRUE |\n| 2010 | NV |  362785 |  721404 | DEMOCRAT   | 0.5028874 | TRUE |\n| 2012 | NV |  457656 |  997805 | REPUBLICAN | 0.4586628 | TRUE |\n| 2016 | NV |  521994 | 1108294 | DEMOCRAT   | 0.4709887 | TRUE |\n| 2018 | NV |  490071 |  972132 | DEMOCRAT   | 0.5041198 | TRUE |\n| 2004 | NC | 1791450 | 3472082 | REPUBLICAN | 0.5159584 | TRUE |\n| 2008 | NC | 2249311 | 4271970 | DEMOCRAT   | 0.5265278 | TRUE |\n| 2010 | NC | 1458046 | 2660079 | REPUBLICAN | 0.5481213 | TRUE |\n| 2014 | NC | 1423259 | 2915281 | REPUBLICAN | 0.4882065 | TRUE |\n| 2016 | NC | 2395376 | 4691133 | REPUBLICAN | 0.5106178 | TRUE |\n| 2020 | NC | 2665598 | 5474952 | REPUBLICAN | 0.4868715 | TRUE |\n| 2004 | PA | 2925080 | 5559105 | REPUBLICAN | 0.5261782 | TRUE |\n| 2006 | PA | 2392984 | 4081043 | DEMOCRAT   | 0.5863658 | TRUE |\n| 2010 | PA | 2028945 | 3977661 | REPUBLICAN | 0.5100849 | TRUE |\n| 2012 | PA | 3021364 | 5627422 | DEMOCRAT   | 0.5369002 | TRUE |\n| 2016 | PA | 2951702 | 6051856 | REPUBLICAN | 0.4877350 | TRUE |\n| 2018 | PA | 2777680 | 4994643 | DEMOCRAT   | 0.5561318 | TRUE |\n| 2004 | WI | 1632697 | 2949743 | DEMOCRAT   | 0.5535048 | TRUE |\n| 2006 | WI | 1439214 | 2138297 | DEMOCRAT   | 0.6730655 | TRUE |\n| 2010 | WI | 1125999 | 2171331 | REPUBLICAN | 0.5185755 | TRUE |\n| 2012 | WI | 1547104 | 3009411 | DEMOCRAT   | 0.5140886 | TRUE |\n| 2016 | WI | 1479471 | 2948741 | REPUBLICAN | 0.5017297 | TRUE |\n| 2018 | WI | 1472914 | 2657841 | DEMOCRAT   | 0.5541769 | TRUE |\n\n",
            "text/latex": "A data.frame: 44 × 7\n\\begin{tabular}{lllllll}\n year & state\\_po & candidatevotes & totalvotes & party\\_simplified & proop & winner\\\\\n <dbl> & <chr> & <dbl> & <dbl> & <chr> & <dbl> & <lgl>\\\\\n\\hline\n\t 2004 & AZ & 1505372 & 1961677 & REPUBLICAN & 0.7673904 & TRUE\\\\\n\t 2006 & AZ &  814398 & 1526782 & REPUBLICAN & 0.5334082 & TRUE\\\\\n\t 2010 & AZ & 1005615 & 1708484 & REPUBLICAN & 0.5886008 & TRUE\\\\\n\t 2012 & AZ & 1104457 & 2243422 & REPUBLICAN & 0.4923091 & TRUE\\\\\n\t 2016 & AZ & 1359267 & 2530730 & REPUBLICAN & 0.5371047 & TRUE\\\\\n\t 2018 & AZ & 1191100 & 2384308 & DEMOCRAT   & 0.4995579 & TRUE\\\\\n\t 2020 & AZ & 1716467 & 3355307 & DEMOCRAT   & 0.5115678 & TRUE\\\\\n\t 2004 & GA & 1864202 & 3220981 & REPUBLICAN & 0.5787684 & TRUE\\\\\n\t 2008 & GA & 1228033 & 2137956 & REPUBLICAN & 0.5743958 & TRUE\\\\\n\t 2010 & GA & 1489904 & 2555258 & REPUBLICAN & 0.5830738 & TRUE\\\\\n\t 2014 & GA & 1358088 & 2567805 & REPUBLICAN & 0.5288906 & TRUE\\\\\n\t 2016 & GA & 2135806 & 3898605 & REPUBLICAN & 0.5478385 & TRUE\\\\\n\t 2020 & GA & 2462617 & 4952175 & REPUBLICAN & 0.4972799 & TRUE\\\\\n\t 2021 & GA & 2288446 & 4483294 & DEMOCRAT   & 0.5104385 & TRUE\\\\\n\t 2006 & MI & 2151278 & 3780142 & DEMOCRAT   & 0.5690998 & TRUE\\\\\n\t 2008 & MI & 3038386 & 4848620 & DEMOCRAT   & 0.6266496 & TRUE\\\\\n\t 2012 & MI & 2735826 & 4652918 & DEMOCRAT   & 0.5879807 & TRUE\\\\\n\t 2014 & MI & 1704936 & 3121771 & DEMOCRAT   & 0.5461438 & TRUE\\\\\n\t 2018 & MI & 2214478 & 4237271 & DEMOCRAT   & 0.5226189 & TRUE\\\\\n\t 2020 & MI & 2734568 & 5479720 & DEMOCRAT   & 0.4990343 & TRUE\\\\\n\t 2004 & NV &  494805 &  810068 & DEMOCRAT   & 0.6108191 & TRUE\\\\\n\t 2006 & NV &  322501 &  582572 & REPUBLICAN & 0.5535814 & TRUE\\\\\n\t 2010 & NV &  362785 &  721404 & DEMOCRAT   & 0.5028874 & TRUE\\\\\n\t 2012 & NV &  457656 &  997805 & REPUBLICAN & 0.4586628 & TRUE\\\\\n\t 2016 & NV &  521994 & 1108294 & DEMOCRAT   & 0.4709887 & TRUE\\\\\n\t 2018 & NV &  490071 &  972132 & DEMOCRAT   & 0.5041198 & TRUE\\\\\n\t 2004 & NC & 1791450 & 3472082 & REPUBLICAN & 0.5159584 & TRUE\\\\\n\t 2008 & NC & 2249311 & 4271970 & DEMOCRAT   & 0.5265278 & TRUE\\\\\n\t 2010 & NC & 1458046 & 2660079 & REPUBLICAN & 0.5481213 & TRUE\\\\\n\t 2014 & NC & 1423259 & 2915281 & REPUBLICAN & 0.4882065 & TRUE\\\\\n\t 2016 & NC & 2395376 & 4691133 & REPUBLICAN & 0.5106178 & TRUE\\\\\n\t 2020 & NC & 2665598 & 5474952 & REPUBLICAN & 0.4868715 & TRUE\\\\\n\t 2004 & PA & 2925080 & 5559105 & REPUBLICAN & 0.5261782 & TRUE\\\\\n\t 2006 & PA & 2392984 & 4081043 & DEMOCRAT   & 0.5863658 & TRUE\\\\\n\t 2010 & PA & 2028945 & 3977661 & REPUBLICAN & 0.5100849 & TRUE\\\\\n\t 2012 & PA & 3021364 & 5627422 & DEMOCRAT   & 0.5369002 & TRUE\\\\\n\t 2016 & PA & 2951702 & 6051856 & REPUBLICAN & 0.4877350 & TRUE\\\\\n\t 2018 & PA & 2777680 & 4994643 & DEMOCRAT   & 0.5561318 & TRUE\\\\\n\t 2004 & WI & 1632697 & 2949743 & DEMOCRAT   & 0.5535048 & TRUE\\\\\n\t 2006 & WI & 1439214 & 2138297 & DEMOCRAT   & 0.6730655 & TRUE\\\\\n\t 2010 & WI & 1125999 & 2171331 & REPUBLICAN & 0.5185755 & TRUE\\\\\n\t 2012 & WI & 1547104 & 3009411 & DEMOCRAT   & 0.5140886 & TRUE\\\\\n\t 2016 & WI & 1479471 & 2948741 & REPUBLICAN & 0.5017297 & TRUE\\\\\n\t 2018 & WI & 1472914 & 2657841 & DEMOCRAT   & 0.5541769 & TRUE\\\\\n\\end{tabular}\n",
            "text/plain": [
              "   year state_po candidatevotes totalvotes party_simplified proop     winner\n",
              "1  2004 AZ       1505372        1961677    REPUBLICAN       0.7673904 TRUE  \n",
              "2  2006 AZ        814398        1526782    REPUBLICAN       0.5334082 TRUE  \n",
              "3  2010 AZ       1005615        1708484    REPUBLICAN       0.5886008 TRUE  \n",
              "4  2012 AZ       1104457        2243422    REPUBLICAN       0.4923091 TRUE  \n",
              "5  2016 AZ       1359267        2530730    REPUBLICAN       0.5371047 TRUE  \n",
              "6  2018 AZ       1191100        2384308    DEMOCRAT         0.4995579 TRUE  \n",
              "7  2020 AZ       1716467        3355307    DEMOCRAT         0.5115678 TRUE  \n",
              "8  2004 GA       1864202        3220981    REPUBLICAN       0.5787684 TRUE  \n",
              "9  2008 GA       1228033        2137956    REPUBLICAN       0.5743958 TRUE  \n",
              "10 2010 GA       1489904        2555258    REPUBLICAN       0.5830738 TRUE  \n",
              "11 2014 GA       1358088        2567805    REPUBLICAN       0.5288906 TRUE  \n",
              "12 2016 GA       2135806        3898605    REPUBLICAN       0.5478385 TRUE  \n",
              "13 2020 GA       2462617        4952175    REPUBLICAN       0.4972799 TRUE  \n",
              "14 2021 GA       2288446        4483294    DEMOCRAT         0.5104385 TRUE  \n",
              "15 2006 MI       2151278        3780142    DEMOCRAT         0.5690998 TRUE  \n",
              "16 2008 MI       3038386        4848620    DEMOCRAT         0.6266496 TRUE  \n",
              "17 2012 MI       2735826        4652918    DEMOCRAT         0.5879807 TRUE  \n",
              "18 2014 MI       1704936        3121771    DEMOCRAT         0.5461438 TRUE  \n",
              "19 2018 MI       2214478        4237271    DEMOCRAT         0.5226189 TRUE  \n",
              "20 2020 MI       2734568        5479720    DEMOCRAT         0.4990343 TRUE  \n",
              "21 2004 NV        494805         810068    DEMOCRAT         0.6108191 TRUE  \n",
              "22 2006 NV        322501         582572    REPUBLICAN       0.5535814 TRUE  \n",
              "23 2010 NV        362785         721404    DEMOCRAT         0.5028874 TRUE  \n",
              "24 2012 NV        457656         997805    REPUBLICAN       0.4586628 TRUE  \n",
              "25 2016 NV        521994        1108294    DEMOCRAT         0.4709887 TRUE  \n",
              "26 2018 NV        490071         972132    DEMOCRAT         0.5041198 TRUE  \n",
              "27 2004 NC       1791450        3472082    REPUBLICAN       0.5159584 TRUE  \n",
              "28 2008 NC       2249311        4271970    DEMOCRAT         0.5265278 TRUE  \n",
              "29 2010 NC       1458046        2660079    REPUBLICAN       0.5481213 TRUE  \n",
              "30 2014 NC       1423259        2915281    REPUBLICAN       0.4882065 TRUE  \n",
              "31 2016 NC       2395376        4691133    REPUBLICAN       0.5106178 TRUE  \n",
              "32 2020 NC       2665598        5474952    REPUBLICAN       0.4868715 TRUE  \n",
              "33 2004 PA       2925080        5559105    REPUBLICAN       0.5261782 TRUE  \n",
              "34 2006 PA       2392984        4081043    DEMOCRAT         0.5863658 TRUE  \n",
              "35 2010 PA       2028945        3977661    REPUBLICAN       0.5100849 TRUE  \n",
              "36 2012 PA       3021364        5627422    DEMOCRAT         0.5369002 TRUE  \n",
              "37 2016 PA       2951702        6051856    REPUBLICAN       0.4877350 TRUE  \n",
              "38 2018 PA       2777680        4994643    DEMOCRAT         0.5561318 TRUE  \n",
              "39 2004 WI       1632697        2949743    DEMOCRAT         0.5535048 TRUE  \n",
              "40 2006 WI       1439214        2138297    DEMOCRAT         0.6730655 TRUE  \n",
              "41 2010 WI       1125999        2171331    REPUBLICAN       0.5185755 TRUE  \n",
              "42 2012 WI       1547104        3009411    DEMOCRAT         0.5140886 TRUE  \n",
              "43 2016 WI       1479471        2948741    REPUBLICAN       0.5017297 TRUE  \n",
              "44 2018 WI       1472914        2657841    DEMOCRAT         0.5541769 TRUE  "
            ]
          },
          "metadata": {}
        }
      ]
    },
    {
      "cell_type": "code",
      "source": [
        "write.csv(WINS, \"senate_winners.csv\")"
      ],
      "metadata": {
        "id": "QVSaEXeNRMhV"
      },
      "execution_count": null,
      "outputs": []
    },
    {
      "cell_type": "code",
      "source": [
        "election = read_csv(\"1976-2020-president.csv\")\n",
        "E = as.data.frame(election)\n",
        "edx = E['year'] >= '2004'\n",
        "EE = E[edx,-c(2,4:10,13,14)]\n",
        "\n",
        "AZ_E = EE %>% filter(state_po == 'AZ')\n",
        "GA_E = EE %>% filter(state_po == 'GA')\n",
        "MI_E = EE %>% filter(state_po == 'MI')\n",
        "NV_E = EE %>% filter(state_po == 'NV')\n",
        "NC_E = EE %>% filter(state_po == 'NC')\n",
        "PA_E = EE %>% filter(state_po == 'PA')\n",
        "WI_E = EE %>% filter(state_po == 'WI')\n",
        "\n",
        "Z = rbind(AZ_E,GA_E,MI_E,NV_E,NC_E,PA_E,WI_E)\n",
        "\n",
        "EX = Z %>% mutate(prop=candidatevotes/totalvotes)\n",
        "temp = EX %>% group_by(year, state_po) %>% summarise(max = max(prop), .groups = 'drop')\n",
        "\n",
        "WINS_pres = EX %>% mutate(winner = prop %in% temp$max) %>% filter(winner == TRUE)\n",
        "WINS_pres"
      ],
      "metadata": {
        "colab": {
          "base_uri": "https://localhost:8080/",
          "height": 1000
        },
        "id": "FhnD2pJwc81c",
        "outputId": "c3955943-6f83-4476-883c-7019b85371aa"
      },
      "execution_count": null,
      "outputs": [
        {
          "output_type": "stream",
          "name": "stderr",
          "text": [
            "\u001b[1mRows: \u001b[22m\u001b[34m4287\u001b[39m \u001b[1mColumns: \u001b[22m\u001b[34m15\u001b[39m\n",
            "\u001b[36m──\u001b[39m \u001b[1mColumn specification\u001b[22m \u001b[36m────────────────────────────────────────────────────────\u001b[39m\n",
            "\u001b[1mDelimiter:\u001b[22m \",\"\n",
            "\u001b[31mchr\u001b[39m (6): state, state_po, office, candidate, party_detailed, party_simplified\n",
            "\u001b[32mdbl\u001b[39m (7): year, state_fips, state_cen, state_ic, candidatevotes, totalvotes, ...\n",
            "\u001b[33mlgl\u001b[39m (2): writein, notes\n",
            "\n",
            "\u001b[36mℹ\u001b[39m Use `spec()` to retrieve the full column specification for this data.\n",
            "\u001b[36mℹ\u001b[39m Specify the column types or set `show_col_types = FALSE` to quiet this message.\n"
          ]
        },
        {
          "output_type": "display_data",
          "data": {
            "text/html": [
              "<table class=\"dataframe\">\n",
              "<caption>A data.frame: 35 × 7</caption>\n",
              "<thead>\n",
              "\t<tr><th scope=col>year</th><th scope=col>state_po</th><th scope=col>candidatevotes</th><th scope=col>totalvotes</th><th scope=col>party_simplified</th><th scope=col>prop</th><th scope=col>winner</th></tr>\n",
              "\t<tr><th scope=col>&lt;dbl&gt;</th><th scope=col>&lt;chr&gt;</th><th scope=col>&lt;dbl&gt;</th><th scope=col>&lt;dbl&gt;</th><th scope=col>&lt;chr&gt;</th><th scope=col>&lt;dbl&gt;</th><th scope=col>&lt;lgl&gt;</th></tr>\n",
              "</thead>\n",
              "<tbody>\n",
              "\t<tr><td>2004</td><td>AZ</td><td>1104294</td><td>2012585</td><td>REPUBLICAN</td><td>0.5486943</td><td>TRUE</td></tr>\n",
              "\t<tr><td>2008</td><td>AZ</td><td>1230111</td><td>2293475</td><td>REPUBLICAN</td><td>0.5363525</td><td>TRUE</td></tr>\n",
              "\t<tr><td>2012</td><td>AZ</td><td>1233654</td><td>2299254</td><td>REPUBLICAN</td><td>0.5365453</td><td>TRUE</td></tr>\n",
              "\t<tr><td>2016</td><td>AZ</td><td>1252401</td><td>2573165</td><td>REPUBLICAN</td><td>0.4867162</td><td>TRUE</td></tr>\n",
              "\t<tr><td>2020</td><td>AZ</td><td>1672143</td><td>3387326</td><td>DEMOCRAT  </td><td>0.4936469</td><td>TRUE</td></tr>\n",
              "\t<tr><td>2004</td><td>GA</td><td>1914254</td><td>3301875</td><td>REPUBLICAN</td><td>0.5797476</td><td>TRUE</td></tr>\n",
              "\t<tr><td>2008</td><td>GA</td><td>2048759</td><td>3924486</td><td>REPUBLICAN</td><td>0.5220452</td><td>TRUE</td></tr>\n",
              "\t<tr><td>2012</td><td>GA</td><td>2078688</td><td>3897839</td><td>REPUBLICAN</td><td>0.5332924</td><td>TRUE</td></tr>\n",
              "\t<tr><td>2016</td><td>GA</td><td>2089104</td><td>4114732</td><td>REPUBLICAN</td><td>0.5077133</td><td>TRUE</td></tr>\n",
              "\t<tr><td>2020</td><td>GA</td><td>2473633</td><td>4999960</td><td>DEMOCRAT  </td><td>0.4947306</td><td>TRUE</td></tr>\n",
              "\t<tr><td>2004</td><td>MI</td><td>2479183</td><td>4839252</td><td>DEMOCRAT  </td><td>0.5123071</td><td>TRUE</td></tr>\n",
              "\t<tr><td>2008</td><td>MI</td><td>2872579</td><td>5001596</td><td>DEMOCRAT  </td><td>0.5743325</td><td>TRUE</td></tr>\n",
              "\t<tr><td>2012</td><td>MI</td><td>2564569</td><td>4730961</td><td>DEMOCRAT  </td><td>0.5420820</td><td>TRUE</td></tr>\n",
              "\t<tr><td>2016</td><td>MI</td><td>2279543</td><td>4799284</td><td>REPUBLICAN</td><td>0.4749756</td><td>TRUE</td></tr>\n",
              "\t<tr><td>2020</td><td>MI</td><td>2804040</td><td>5539302</td><td>DEMOCRAT  </td><td>0.5062082</td><td>TRUE</td></tr>\n",
              "\t<tr><td>2004</td><td>NV</td><td> 418690</td><td> 829587</td><td>REPUBLICAN</td><td>0.5046969</td><td>TRUE</td></tr>\n",
              "\t<tr><td>2008</td><td>NV</td><td> 533736</td><td> 967848</td><td>DEMOCRAT  </td><td>0.5514668</td><td>TRUE</td></tr>\n",
              "\t<tr><td>2012</td><td>NV</td><td> 531373</td><td>1014918</td><td>DEMOCRAT  </td><td>0.5235625</td><td>TRUE</td></tr>\n",
              "\t<tr><td>2016</td><td>NV</td><td> 539260</td><td>1125385</td><td>DEMOCRAT  </td><td>0.4791782</td><td>TRUE</td></tr>\n",
              "\t<tr><td>2020</td><td>NV</td><td> 703486</td><td>1405376</td><td>DEMOCRAT  </td><td>0.5005678</td><td>TRUE</td></tr>\n",
              "\t<tr><td>2004</td><td>NC</td><td>1961166</td><td>3501007</td><td>REPUBLICAN</td><td>0.5601720</td><td>TRUE</td></tr>\n",
              "\t<tr><td>2008</td><td>NC</td><td>2142651</td><td>4310851</td><td>DEMOCRAT  </td><td>0.4970367</td><td>TRUE</td></tr>\n",
              "\t<tr><td>2012</td><td>NC</td><td>2270395</td><td>4505372</td><td>REPUBLICAN</td><td>0.5039306</td><td>TRUE</td></tr>\n",
              "\t<tr><td>2016</td><td>NC</td><td>2362631</td><td>4741564</td><td>REPUBLICAN</td><td>0.4982809</td><td>TRUE</td></tr>\n",
              "\t<tr><td>2020</td><td>NC</td><td>2758773</td><td>5524802</td><td>REPUBLICAN</td><td>0.4993433</td><td>TRUE</td></tr>\n",
              "\t<tr><td>2004</td><td>PA</td><td>2938095</td><td>5769590</td><td>DEMOCRAT  </td><td>0.5092381</td><td>TRUE</td></tr>\n",
              "\t<tr><td>2008</td><td>PA</td><td>3276363</td><td>6013272</td><td>DEMOCRAT  </td><td>0.5448553</td><td>TRUE</td></tr>\n",
              "\t<tr><td>2012</td><td>PA</td><td>2990274</td><td>5742040</td><td>DEMOCRAT  </td><td>0.5207686</td><td>TRUE</td></tr>\n",
              "\t<tr><td>2016</td><td>PA</td><td>2970733</td><td>6115402</td><td>REPUBLICAN</td><td>0.4857789</td><td>TRUE</td></tr>\n",
              "\t<tr><td>2020</td><td>PA</td><td>3458229</td><td>6915283</td><td>DEMOCRAT  </td><td>0.5000850</td><td>TRUE</td></tr>\n",
              "\t<tr><td>2004</td><td>WI</td><td>1489504</td><td>2997007</td><td>DEMOCRAT  </td><td>0.4969972</td><td>TRUE</td></tr>\n",
              "\t<tr><td>2008</td><td>WI</td><td>1677211</td><td>2983417</td><td>DEMOCRAT  </td><td>0.5621779</td><td>TRUE</td></tr>\n",
              "\t<tr><td>2012</td><td>WI</td><td>1620985</td><td>3071434</td><td>DEMOCRAT  </td><td>0.5277616</td><td>TRUE</td></tr>\n",
              "\t<tr><td>2016</td><td>WI</td><td>1405284</td><td>2976150</td><td>REPUBLICAN</td><td>0.4721818</td><td>TRUE</td></tr>\n",
              "\t<tr><td>2020</td><td>WI</td><td>1630866</td><td>3298041</td><td>DEMOCRAT  </td><td>0.4944954</td><td>TRUE</td></tr>\n",
              "</tbody>\n",
              "</table>\n"
            ],
            "text/markdown": "\nA data.frame: 35 × 7\n\n| year &lt;dbl&gt; | state_po &lt;chr&gt; | candidatevotes &lt;dbl&gt; | totalvotes &lt;dbl&gt; | party_simplified &lt;chr&gt; | prop &lt;dbl&gt; | winner &lt;lgl&gt; |\n|---|---|---|---|---|---|---|\n| 2004 | AZ | 1104294 | 2012585 | REPUBLICAN | 0.5486943 | TRUE |\n| 2008 | AZ | 1230111 | 2293475 | REPUBLICAN | 0.5363525 | TRUE |\n| 2012 | AZ | 1233654 | 2299254 | REPUBLICAN | 0.5365453 | TRUE |\n| 2016 | AZ | 1252401 | 2573165 | REPUBLICAN | 0.4867162 | TRUE |\n| 2020 | AZ | 1672143 | 3387326 | DEMOCRAT   | 0.4936469 | TRUE |\n| 2004 | GA | 1914254 | 3301875 | REPUBLICAN | 0.5797476 | TRUE |\n| 2008 | GA | 2048759 | 3924486 | REPUBLICAN | 0.5220452 | TRUE |\n| 2012 | GA | 2078688 | 3897839 | REPUBLICAN | 0.5332924 | TRUE |\n| 2016 | GA | 2089104 | 4114732 | REPUBLICAN | 0.5077133 | TRUE |\n| 2020 | GA | 2473633 | 4999960 | DEMOCRAT   | 0.4947306 | TRUE |\n| 2004 | MI | 2479183 | 4839252 | DEMOCRAT   | 0.5123071 | TRUE |\n| 2008 | MI | 2872579 | 5001596 | DEMOCRAT   | 0.5743325 | TRUE |\n| 2012 | MI | 2564569 | 4730961 | DEMOCRAT   | 0.5420820 | TRUE |\n| 2016 | MI | 2279543 | 4799284 | REPUBLICAN | 0.4749756 | TRUE |\n| 2020 | MI | 2804040 | 5539302 | DEMOCRAT   | 0.5062082 | TRUE |\n| 2004 | NV |  418690 |  829587 | REPUBLICAN | 0.5046969 | TRUE |\n| 2008 | NV |  533736 |  967848 | DEMOCRAT   | 0.5514668 | TRUE |\n| 2012 | NV |  531373 | 1014918 | DEMOCRAT   | 0.5235625 | TRUE |\n| 2016 | NV |  539260 | 1125385 | DEMOCRAT   | 0.4791782 | TRUE |\n| 2020 | NV |  703486 | 1405376 | DEMOCRAT   | 0.5005678 | TRUE |\n| 2004 | NC | 1961166 | 3501007 | REPUBLICAN | 0.5601720 | TRUE |\n| 2008 | NC | 2142651 | 4310851 | DEMOCRAT   | 0.4970367 | TRUE |\n| 2012 | NC | 2270395 | 4505372 | REPUBLICAN | 0.5039306 | TRUE |\n| 2016 | NC | 2362631 | 4741564 | REPUBLICAN | 0.4982809 | TRUE |\n| 2020 | NC | 2758773 | 5524802 | REPUBLICAN | 0.4993433 | TRUE |\n| 2004 | PA | 2938095 | 5769590 | DEMOCRAT   | 0.5092381 | TRUE |\n| 2008 | PA | 3276363 | 6013272 | DEMOCRAT   | 0.5448553 | TRUE |\n| 2012 | PA | 2990274 | 5742040 | DEMOCRAT   | 0.5207686 | TRUE |\n| 2016 | PA | 2970733 | 6115402 | REPUBLICAN | 0.4857789 | TRUE |\n| 2020 | PA | 3458229 | 6915283 | DEMOCRAT   | 0.5000850 | TRUE |\n| 2004 | WI | 1489504 | 2997007 | DEMOCRAT   | 0.4969972 | TRUE |\n| 2008 | WI | 1677211 | 2983417 | DEMOCRAT   | 0.5621779 | TRUE |\n| 2012 | WI | 1620985 | 3071434 | DEMOCRAT   | 0.5277616 | TRUE |\n| 2016 | WI | 1405284 | 2976150 | REPUBLICAN | 0.4721818 | TRUE |\n| 2020 | WI | 1630866 | 3298041 | DEMOCRAT   | 0.4944954 | TRUE |\n\n",
            "text/latex": "A data.frame: 35 × 7\n\\begin{tabular}{lllllll}\n year & state\\_po & candidatevotes & totalvotes & party\\_simplified & prop & winner\\\\\n <dbl> & <chr> & <dbl> & <dbl> & <chr> & <dbl> & <lgl>\\\\\n\\hline\n\t 2004 & AZ & 1104294 & 2012585 & REPUBLICAN & 0.5486943 & TRUE\\\\\n\t 2008 & AZ & 1230111 & 2293475 & REPUBLICAN & 0.5363525 & TRUE\\\\\n\t 2012 & AZ & 1233654 & 2299254 & REPUBLICAN & 0.5365453 & TRUE\\\\\n\t 2016 & AZ & 1252401 & 2573165 & REPUBLICAN & 0.4867162 & TRUE\\\\\n\t 2020 & AZ & 1672143 & 3387326 & DEMOCRAT   & 0.4936469 & TRUE\\\\\n\t 2004 & GA & 1914254 & 3301875 & REPUBLICAN & 0.5797476 & TRUE\\\\\n\t 2008 & GA & 2048759 & 3924486 & REPUBLICAN & 0.5220452 & TRUE\\\\\n\t 2012 & GA & 2078688 & 3897839 & REPUBLICAN & 0.5332924 & TRUE\\\\\n\t 2016 & GA & 2089104 & 4114732 & REPUBLICAN & 0.5077133 & TRUE\\\\\n\t 2020 & GA & 2473633 & 4999960 & DEMOCRAT   & 0.4947306 & TRUE\\\\\n\t 2004 & MI & 2479183 & 4839252 & DEMOCRAT   & 0.5123071 & TRUE\\\\\n\t 2008 & MI & 2872579 & 5001596 & DEMOCRAT   & 0.5743325 & TRUE\\\\\n\t 2012 & MI & 2564569 & 4730961 & DEMOCRAT   & 0.5420820 & TRUE\\\\\n\t 2016 & MI & 2279543 & 4799284 & REPUBLICAN & 0.4749756 & TRUE\\\\\n\t 2020 & MI & 2804040 & 5539302 & DEMOCRAT   & 0.5062082 & TRUE\\\\\n\t 2004 & NV &  418690 &  829587 & REPUBLICAN & 0.5046969 & TRUE\\\\\n\t 2008 & NV &  533736 &  967848 & DEMOCRAT   & 0.5514668 & TRUE\\\\\n\t 2012 & NV &  531373 & 1014918 & DEMOCRAT   & 0.5235625 & TRUE\\\\\n\t 2016 & NV &  539260 & 1125385 & DEMOCRAT   & 0.4791782 & TRUE\\\\\n\t 2020 & NV &  703486 & 1405376 & DEMOCRAT   & 0.5005678 & TRUE\\\\\n\t 2004 & NC & 1961166 & 3501007 & REPUBLICAN & 0.5601720 & TRUE\\\\\n\t 2008 & NC & 2142651 & 4310851 & DEMOCRAT   & 0.4970367 & TRUE\\\\\n\t 2012 & NC & 2270395 & 4505372 & REPUBLICAN & 0.5039306 & TRUE\\\\\n\t 2016 & NC & 2362631 & 4741564 & REPUBLICAN & 0.4982809 & TRUE\\\\\n\t 2020 & NC & 2758773 & 5524802 & REPUBLICAN & 0.4993433 & TRUE\\\\\n\t 2004 & PA & 2938095 & 5769590 & DEMOCRAT   & 0.5092381 & TRUE\\\\\n\t 2008 & PA & 3276363 & 6013272 & DEMOCRAT   & 0.5448553 & TRUE\\\\\n\t 2012 & PA & 2990274 & 5742040 & DEMOCRAT   & 0.5207686 & TRUE\\\\\n\t 2016 & PA & 2970733 & 6115402 & REPUBLICAN & 0.4857789 & TRUE\\\\\n\t 2020 & PA & 3458229 & 6915283 & DEMOCRAT   & 0.5000850 & TRUE\\\\\n\t 2004 & WI & 1489504 & 2997007 & DEMOCRAT   & 0.4969972 & TRUE\\\\\n\t 2008 & WI & 1677211 & 2983417 & DEMOCRAT   & 0.5621779 & TRUE\\\\\n\t 2012 & WI & 1620985 & 3071434 & DEMOCRAT   & 0.5277616 & TRUE\\\\\n\t 2016 & WI & 1405284 & 2976150 & REPUBLICAN & 0.4721818 & TRUE\\\\\n\t 2020 & WI & 1630866 & 3298041 & DEMOCRAT   & 0.4944954 & TRUE\\\\\n\\end{tabular}\n",
            "text/plain": [
              "   year state_po candidatevotes totalvotes party_simplified prop      winner\n",
              "1  2004 AZ       1104294        2012585    REPUBLICAN       0.5486943 TRUE  \n",
              "2  2008 AZ       1230111        2293475    REPUBLICAN       0.5363525 TRUE  \n",
              "3  2012 AZ       1233654        2299254    REPUBLICAN       0.5365453 TRUE  \n",
              "4  2016 AZ       1252401        2573165    REPUBLICAN       0.4867162 TRUE  \n",
              "5  2020 AZ       1672143        3387326    DEMOCRAT         0.4936469 TRUE  \n",
              "6  2004 GA       1914254        3301875    REPUBLICAN       0.5797476 TRUE  \n",
              "7  2008 GA       2048759        3924486    REPUBLICAN       0.5220452 TRUE  \n",
              "8  2012 GA       2078688        3897839    REPUBLICAN       0.5332924 TRUE  \n",
              "9  2016 GA       2089104        4114732    REPUBLICAN       0.5077133 TRUE  \n",
              "10 2020 GA       2473633        4999960    DEMOCRAT         0.4947306 TRUE  \n",
              "11 2004 MI       2479183        4839252    DEMOCRAT         0.5123071 TRUE  \n",
              "12 2008 MI       2872579        5001596    DEMOCRAT         0.5743325 TRUE  \n",
              "13 2012 MI       2564569        4730961    DEMOCRAT         0.5420820 TRUE  \n",
              "14 2016 MI       2279543        4799284    REPUBLICAN       0.4749756 TRUE  \n",
              "15 2020 MI       2804040        5539302    DEMOCRAT         0.5062082 TRUE  \n",
              "16 2004 NV        418690         829587    REPUBLICAN       0.5046969 TRUE  \n",
              "17 2008 NV        533736         967848    DEMOCRAT         0.5514668 TRUE  \n",
              "18 2012 NV        531373        1014918    DEMOCRAT         0.5235625 TRUE  \n",
              "19 2016 NV        539260        1125385    DEMOCRAT         0.4791782 TRUE  \n",
              "20 2020 NV        703486        1405376    DEMOCRAT         0.5005678 TRUE  \n",
              "21 2004 NC       1961166        3501007    REPUBLICAN       0.5601720 TRUE  \n",
              "22 2008 NC       2142651        4310851    DEMOCRAT         0.4970367 TRUE  \n",
              "23 2012 NC       2270395        4505372    REPUBLICAN       0.5039306 TRUE  \n",
              "24 2016 NC       2362631        4741564    REPUBLICAN       0.4982809 TRUE  \n",
              "25 2020 NC       2758773        5524802    REPUBLICAN       0.4993433 TRUE  \n",
              "26 2004 PA       2938095        5769590    DEMOCRAT         0.5092381 TRUE  \n",
              "27 2008 PA       3276363        6013272    DEMOCRAT         0.5448553 TRUE  \n",
              "28 2012 PA       2990274        5742040    DEMOCRAT         0.5207686 TRUE  \n",
              "29 2016 PA       2970733        6115402    REPUBLICAN       0.4857789 TRUE  \n",
              "30 2020 PA       3458229        6915283    DEMOCRAT         0.5000850 TRUE  \n",
              "31 2004 WI       1489504        2997007    DEMOCRAT         0.4969972 TRUE  \n",
              "32 2008 WI       1677211        2983417    DEMOCRAT         0.5621779 TRUE  \n",
              "33 2012 WI       1620985        3071434    DEMOCRAT         0.5277616 TRUE  \n",
              "34 2016 WI       1405284        2976150    REPUBLICAN       0.4721818 TRUE  \n",
              "35 2020 WI       1630866        3298041    DEMOCRAT         0.4944954 TRUE  "
            ]
          },
          "metadata": {}
        }
      ]
    },
    {
      "cell_type": "code",
      "source": [
        "write.csv(WINS_pres, \"pres_winners.csv\")"
      ],
      "metadata": {
        "id": "1koOo6WGJdMl"
      },
      "execution_count": null,
      "outputs": []
    }
  ]
}